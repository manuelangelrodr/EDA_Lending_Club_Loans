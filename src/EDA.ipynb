{
 "cells": [
  {
   "cell_type": "markdown",
   "metadata": {},
   "source": [
    "# INFORMACIÓN DEL PROYECTO\n",
    "\n",
    "Tratamos de averiguar qué variables inciden en si un préstamo va a ser impagado\n"
   ]
  },
  {
   "cell_type": "markdown",
   "metadata": {},
   "source": [
    "### HIPÓTESIS\n",
    "\n",
    "La hipótesis de la que partimos es que existen variables que permiten explicar la probabilidad de que un préstamo resulte impagado. \n",
    "\n",
    "En concreto partimos de datasets cuyo origen está en el reconocido \"All Lending Club loan data\" que recopila información sobre diversas variables de préstamos de USA. En Kaggle existe información hasta 2018 (https://www.kaggle.com/datasets/wordsforthewise/lending-club). Para obtener información más actualizada, habría que ser miembro del Club y obtenerla directamente (https://www.lendingclub.com/). Sin emabrgo, dada la longitud y tamaño de la base de datos (más de 1 GB) usaremos un dataset más reducido con datos de 2012 y que usan, a modo de ejemplo, para el servicio SageMaker de Amazon Web Services (AWS).\n",
    "\n",
    "Los datos se componen de 2 dataset en formato csv con las siguientes columnas.\n",
    "\n",
    "Dataset 1:\n",
    "\n",
    "* id: número de identificación del préstamo\n",
    "* loan_status: estado actual del préstamo (normalmente 3 estados: fully paid, charged off, current)\n",
    "* loan_amount: importe concedido del préstamo\n",
    "* funded_amount_by_investors: monto recibido efectivamente por el prestatario (deducidas las comisiones de apertura)\n",
    "* loan_term: número de pagos del préstamo en meses (36 o 60)\n",
    "* interest_rate: tipo de interés del préstamo\n",
    "* installment: cuota mensual del préstamo\n",
    "* grade: grado clasificación dado por LC (Lending Club)\n",
    "* subgrade: subgrado otorgado por LC\n",
    "* verification_status: indica si los ingresos del prestatario han sido verificados por LC\n",
    "* issued_on: fecha de emisión del préstamo\n",
    "* purpose: propósito del préstamo (coche, negocio, tarjeta, etc)\n",
    "* dti: ratio que divide el pago total de cuotas en préstamos del prestatario sobre el total de ingresos mensuales, excluyendo el pago de la hipoteca.\n",
    "* inquiries_last_six_months: númeo de consultas del prestatario en los últimos 6 meses\n",
    "* open_credit_lines: número de préstamos del prestatario abiertas.\n",
    "* derogatory_public_records: número de registros públicos negativos\n",
    "* revolving_line_utilization_rate: tasa de uso de crédito en tarjetas revolving\n",
    "* total_credit_lines: total de créditos del pretatario en la base de datos\n",
    "\n",
    "Dataset 2:\n",
    "\n",
    "* id: número de identificación del préstamo\n",
    "* employment_length: tiempo que el prestario ha estado trabajando en años (entre 0 y 10, si es más se le asigna 10)\n",
    "* employer_title: nombre del empleo del prestatario\n",
    "* home_ownership: (own= vivienda en propiedad, rent: alquilada)\n",
    "* annual_income: ingresos anuales del prestatario\n",
    "\n",
    "Ambos dataset tienen 39717 filas de datos"
   ]
  },
  {
   "cell_type": "markdown",
   "metadata": {},
   "source": [
    "#### Hipótesis de nuestro proyecto\n",
    "\n",
    "En nuestro poyecto nos centraremos en averiguar si existe alguna variable o conjunto de variables que expliquen mejor que otras la probabilidad de que un préstamo sea impagado. En concreto, nos centraremos en el estudio de las siguientes variables que podrían explicar el impago del préstamo:\n",
    "\n",
    "1. El importe del préstamo\n",
    "2. El tipo de interés aplicado\n",
    "3. El importe de la cuota\n",
    "4. El ratio dti (cuotas pagadas en préstamo / ingresos totales)\n",
    "5. El grado de uso del crédito en tarjetas revolving\n",
    "6. El tiempo que lleva empleado.\n",
    "7. Si tiene una casa en propiedad o alquilada\n",
    "8. El propósito para el que se concedió el préstamo\n",
    "9. Los ingresos anuales del prestatario."
   ]
  },
  {
   "cell_type": "markdown",
   "metadata": {},
   "source": [
    "## OBTENCIÓN DE LOS DATOS\n",
    "\n",
    "### DATASETS Y FUENTES ALTERNATIVAS DE DATOS\n",
    "\n",
    "Los datos están disponibles en la web del servicio de Amazon SageMaker de AWS como ejemplo para la demostración de sus servicios.\n",
    "\n",
    "En concreto las url de cada dataset son las siguientes:\n",
    "\n",
    "[Dataset 1](https://static.us-east-1.prod.workshops.aws/public/794937ea-b720-4c4b-821c-6535c6b64079/static/datasets/loans-part-1.csv)\n",
    "\n",
    "[Dataset 2](https://static.us-east-1.prod.workshops.aws/public/794937ea-b720-4c4b-821c-6535c6b64079/static/datasets/loans-part-2.csv)"
   ]
  },
  {
   "cell_type": "markdown",
   "metadata": {},
   "source": [
    "Empezamos importando las librerías que vamos a necesitar"
   ]
  },
  {
   "cell_type": "code",
   "execution_count": 1,
   "metadata": {},
   "outputs": [
    {
     "ename": "SyntaxError",
     "evalue": "expected ':' (eda_functions.py, line 162)",
     "output_type": "error",
     "traceback": [
      "Traceback \u001b[1;36m(most recent call last)\u001b[0m:\n",
      "\u001b[0m  File \u001b[0;32m~\\AppData\\Roaming\\Python\\Python311\\site-packages\\IPython\\core\\interactiveshell.py:3526\u001b[0m in \u001b[0;35mrun_code\u001b[0m\n    exec(code_obj, self.user_global_ns, self.user_ns)\u001b[0m\n",
      "\u001b[1;36m  Cell \u001b[1;32mIn[1], line 11\u001b[1;36m\n\u001b[1;33m    from utils.eda_functions import *\u001b[1;36m\n",
      "\u001b[1;36m  File \u001b[1;32mc:\\Users\\manue\\OneDrive\\Documentos\\GitHub\\EDA_Loans_DS\\src\\utils\\eda_functions.py:162\u001b[1;36m\u001b[0m\n\u001b[1;33m    def test_t_student(df_paid, df_charged_off, column_df)\u001b[0m\n\u001b[1;37m                                                          ^\u001b[0m\n\u001b[1;31mSyntaxError\u001b[0m\u001b[1;31m:\u001b[0m expected ':'\n"
     ]
    }
   ],
   "source": [
    "# Importamos las librerías Python que vamos a necesitar en nuestro estudio\n",
    "\n",
    "import pandas as pd\n",
    "import numpy as np\n",
    "import matplotlib.pyplot as plt\n",
    "import seaborn as sns\n",
    "from scipy.stats import ttest_ind\n",
    "from scipy.stats import chi2_contingency\n",
    "import sys\n",
    "sys.path.append('../')\n",
    "from utils.eda_functions import *"
   ]
  },
  {
   "cell_type": "code",
   "execution_count": 13,
   "metadata": {},
   "outputs": [],
   "source": [
    "df_normal_1 = pd.read_csv('../src/data/raw/loans-part-1.csv')"
   ]
  }
 ],
 "metadata": {
  "kernelspec": {
   "display_name": "Python 3",
   "language": "python",
   "name": "python3"
  },
  "language_info": {
   "codemirror_mode": {
    "name": "ipython",
    "version": 3
   },
   "file_extension": ".py",
   "mimetype": "text/x-python",
   "name": "python",
   "nbconvert_exporter": "python",
   "pygments_lexer": "ipython3",
   "version": "3.11.3"
  }
 },
 "nbformat": 4,
 "nbformat_minor": 2
}
