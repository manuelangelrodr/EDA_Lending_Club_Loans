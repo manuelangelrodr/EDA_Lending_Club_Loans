{
 "cells": [
  {
   "cell_type": "markdown",
   "metadata": {},
   "source": [
    "# INFORMACIÓN DEL PROYECTO\n",
    "\n",
    "Tratamos de averiguar qué variables inciden en si un préstamo va a ser impagado\n"
   ]
  },
  {
   "cell_type": "markdown",
   "metadata": {},
   "source": [
    "### HIPÓTESIS\n",
    "\n",
    "La hipótesis de la que partimos es que existen variables que permiten explicar la probabilidad de que un préstamo resulte impagado. \n",
    "\n",
    "En concreto partimos de datasets cuyo origen está en el reconocido \"All Lending Club loan data\" que recopila información sobre diversas variables de préstamos de USA. En Kaggle existe información hasta 2018 (https://www.kaggle.com/datasets/wordsforthewise/lending-club). Para obtener información más actualizada, habría que ser miembro del Club y obtenerla directamente (https://www.lendingclub.com/). Sin emabrgo, dada la longitud y tamaño de la base de datos (más de 1 GB) usaremos un dataset más reducido con datos de 2012 y que usan, a modo de ejemplo, para el servicio SageMaker de Amazon Web Services (AWS).\n",
    "\n",
    "Los datos se componen de 2 dataset en formato csv con las siguientes columnas.\n",
    "\n",
    "Dataset 1:\n",
    "\n",
    "* id: número de identificación del préstamo\n",
    "* loan_status: estado actual del préstamo (normalmente 3 estados: fully paid, charged off, current)\n",
    "* loan_amount: importe concedido del préstamo\n",
    "* funded_amount_by_investors: monto recibido efectivamente por el prestatario (deducidas las comisiones de apertura)\n",
    "* loan_term: número de pagos del préstamo en meses (36 o 60)\n",
    "* interest_rate: tipo de interés del préstamo\n",
    "* installment: cuota mensual del préstamo\n",
    "* grade: grado clasificación dado por LC (Lending Club)\n",
    "* subgrade: subgrado otorgado por LC\n",
    "* verification_status: indica si los ingresos del prestatario han sido verificados por LC\n",
    "* issued_on: fecha de emisión del préstamo\n",
    "* purpose: propósito del préstamo (coche, negocio, tarjeta, etc)\n",
    "* dti: ratio que divide el pago total de cuotas en préstamos del prestatario sobre el total de ingresos mensuales, excluyendo el pago de la hipoteca.\n",
    "* inquiries_last_six_months: númeo de consultas del prestatario en los últimos 6 meses\n",
    "* open_credit_lines: número de préstamos del prestatario abiertas.\n",
    "* derogatory_public_records: número de registros públicos negativos\n",
    "* revolving_line_utilization_rate: tasa de uso de crédito en tarjetas revolving\n",
    "* total_credit_lines: total de créditos del pretatario en la base de datos\n",
    "\n",
    "Dataset 2:\n",
    "\n",
    "* id: número de identificación del préstamo\n",
    "* employment_length: tiempo que el prestario ha estado trabajando en años (entre 0 y 10, si es más se le asigna 10)\n",
    "* employer_title: nombre del empleo del prestatario\n",
    "* home_ownership: (own= vivienda en propiedad, rent: alquilada)\n",
    "* annual_income: ingresos anuales del prestatario\n",
    "\n",
    "Ambos dataset tienen 39717 filas de datos"
   ]
  },
  {
   "cell_type": "markdown",
   "metadata": {},
   "source": [
    "#### Hipótesis de nuestro proyecto\n",
    "\n",
    "En nuestro poyecto nos centraremos en averiguar si existe alguna variable o conjunto de variables que expliquen mejor que otras la probabilidad de que un préstamo sea impagado. En concreto, nos centraremos en el estudio de las siguientes variables que podrían explicar el impago del préstamo:\n",
    "\n",
    "1. El importe del préstamo\n",
    "2. El tipo de interés aplicado\n",
    "3. El importe de la cuota\n",
    "4. El ratio dti (cuotas pagadas en préstamo / ingresos totales)\n",
    "5. El grado de uso del crédito en tarjetas revolving\n",
    "6. El tiempo que lleva empleado.\n",
    "7. Si tiene una casa en propiedad o alquilada\n",
    "8. El propósito para el que se concedió el préstamo\n",
    "9. Los ingresos anuales del prestatario."
   ]
  },
  {
   "cell_type": "markdown",
   "metadata": {},
   "source": [
    "## OBTENCIÓN DE LOS DATOS\n",
    "\n",
    "### DATASETS Y FUENTES ALTERNATIVAS DE DATOS\n",
    "\n",
    "Los datos están disponibles en la web del servicio de Amazon SageMaker de AWS como ejemplo para la demostración de sus servicios.\n",
    "\n",
    "En concreto las url de cada dataset son las siguientes:\n",
    "\n",
    "[Dataset 1](https://static.us-east-1.prod.workshops.aws/public/794937ea-b720-4c4b-821c-6535c6b64079/static/datasets/loans-part-1.csv)\n",
    "\n",
    "[Dataset 2](https://static.us-east-1.prod.workshops.aws/public/794937ea-b720-4c4b-821c-6535c6b64079/static/datasets/loans-part-2.csv)"
   ]
  },
  {
   "cell_type": "markdown",
   "metadata": {},
   "source": [
    "Empezamos importando las librerías que vamos a necesitar"
   ]
  },
  {
   "cell_type": "code",
   "execution_count": 1,
   "metadata": {},
   "outputs": [],
   "source": [
    "# Importamos las librerías Python que vamos a necesitar en nuestro estudio\n",
    "\n",
    "import pandas as pd\n",
    "import numpy as np\n",
    "import matplotlib.pyplot as plt\n",
    "import seaborn as sns\n",
    "from scipy.stats import ttest_ind\n",
    "from scipy.stats import chi2_contingency\n",
    "import sys\n",
    "sys.path.append('../')\n",
    "from utils.eda_functions import *"
   ]
  },
  {
   "cell_type": "markdown",
   "metadata": {},
   "source": [
    "Empezamos viendo el contenido de cada uno de los dataset (columnas, tipo de datos en cada columna, posible existencia de valores nulos o el número de filas de cada dataset)"
   ]
  },
  {
   "cell_type": "code",
   "execution_count": 2,
   "metadata": {},
   "outputs": [],
   "source": [
    "df_normal_1 = pd.read_csv('../src/data/raw/loans-part-1.csv')\n",
    "df_normal_2 = pd.read_csv('../src/data/raw/loans-part-2.csv')"
   ]
  },
  {
   "cell_type": "code",
   "execution_count": 3,
   "metadata": {},
   "outputs": [
    {
     "data": {
      "text/plain": [
       "(39717, 18)"
      ]
     },
     "execution_count": 3,
     "metadata": {},
     "output_type": "execute_result"
    }
   ],
   "source": [
    "df_normal_1.shape"
   ]
  },
  {
   "cell_type": "code",
   "execution_count": 4,
   "metadata": {},
   "outputs": [
    {
     "data": {
      "text/plain": [
       "(39717, 5)"
      ]
     },
     "execution_count": 4,
     "metadata": {},
     "output_type": "execute_result"
    }
   ],
   "source": [
    "df_normal_2.shape"
   ]
  },
  {
   "cell_type": "code",
   "execution_count": 5,
   "metadata": {},
   "outputs": [
    {
     "data": {
      "text/plain": [
       "Index(['id', 'loan_status', 'loan_amount', 'funded_amount_by_investors',\n",
       "       'loan_term', 'interest_rate', 'installment', 'grade', 'sub_grade',\n",
       "       'verification_status', 'issued_on', 'purpose', 'dti',\n",
       "       'inquiries_last_6_months', 'open_credit_lines',\n",
       "       'derogatory_public_records', 'revolving_line_utilization_rate',\n",
       "       'total_credit_lines'],\n",
       "      dtype='object')"
      ]
     },
     "execution_count": 5,
     "metadata": {},
     "output_type": "execute_result"
    }
   ],
   "source": [
    "df_normal_1.columns"
   ]
  },
  {
   "cell_type": "code",
   "execution_count": 6,
   "metadata": {},
   "outputs": [
    {
     "data": {
      "text/plain": [
       "Index(['id', 'employment_length', 'employer_title', 'home_ownership',\n",
       "       'annual_income'],\n",
       "      dtype='object')"
      ]
     },
     "execution_count": 6,
     "metadata": {},
     "output_type": "execute_result"
    }
   ],
   "source": [
    "df_normal_2.columns"
   ]
  },
  {
   "cell_type": "code",
   "execution_count": 7,
   "metadata": {},
   "outputs": [
    {
     "data": {
      "text/plain": [
       "array([ True,  True,  True, ...,  True,  True,  True])"
      ]
     },
     "execution_count": 7,
     "metadata": {},
     "output_type": "execute_result"
    }
   ],
   "source": [
    "df_normal_1.index == df_normal_2.index"
   ]
  },
  {
   "cell_type": "markdown",
   "metadata": {},
   "source": [
    "De este primer análisis, parece inferirse que el dataset 2 es una continuación del dataset 1, y que parece tener los mismos id. \n",
    "\n",
    "Comprobamos que las columnas id de ambos dataset son iguales"
   ]
  },
  {
   "cell_type": "code",
   "execution_count": 8,
   "metadata": {},
   "outputs": [
    {
     "name": "stdout",
     "output_type": "stream",
     "text": [
      "Ambos dataset tienen exactamente los mismos índices\n"
     ]
    }
   ],
   "source": [
    "if df_normal_1.index.equals(df_normal_2.index):\n",
    "    print('Ambos dataset tienen exactamente los mismos índices')\n",
    "else:\n",
    "    print('Los dataset no tienen los mismos índices')"
   ]
  },
  {
   "cell_type": "markdown",
   "metadata": {},
   "source": [
    "Comprobado que efectivamente ambos dataset tienen los mismos índices, procedemos a hacer un merge de los mismos para trabajar con un solo Dataframe"
   ]
  },
  {
   "cell_type": "code",
   "execution_count": 9,
   "metadata": {},
   "outputs": [
    {
     "data": {
      "text/html": [
       "<div>\n",
       "<style scoped>\n",
       "    .dataframe tbody tr th:only-of-type {\n",
       "        vertical-align: middle;\n",
       "    }\n",
       "\n",
       "    .dataframe tbody tr th {\n",
       "        vertical-align: top;\n",
       "    }\n",
       "\n",
       "    .dataframe thead th {\n",
       "        text-align: right;\n",
       "    }\n",
       "</style>\n",
       "<table border=\"1\" class=\"dataframe\">\n",
       "  <thead>\n",
       "    <tr style=\"text-align: right;\">\n",
       "      <th></th>\n",
       "      <th>id</th>\n",
       "      <th>loan_status</th>\n",
       "      <th>loan_amount</th>\n",
       "      <th>funded_amount_by_investors</th>\n",
       "      <th>loan_term</th>\n",
       "      <th>interest_rate</th>\n",
       "      <th>installment</th>\n",
       "      <th>grade</th>\n",
       "      <th>sub_grade</th>\n",
       "      <th>verification_status</th>\n",
       "      <th>issued_on</th>\n",
       "      <th>purpose</th>\n",
       "      <th>dti</th>\n",
       "      <th>inquiries_last_6_months</th>\n",
       "      <th>open_credit_lines</th>\n",
       "      <th>derogatory_public_records</th>\n",
       "      <th>revolving_line_utilization_rate</th>\n",
       "      <th>total_credit_lines</th>\n",
       "      <th>employment_length</th>\n",
       "      <th>employer_title</th>\n",
       "      <th>home_ownership</th>\n",
       "      <th>annual_income</th>\n",
       "    </tr>\n",
       "  </thead>\n",
       "  <tbody>\n",
       "    <tr>\n",
       "      <th>0</th>\n",
       "      <td>1077501</td>\n",
       "      <td>fully paid</td>\n",
       "      <td>5000</td>\n",
       "      <td>4975.0</td>\n",
       "      <td>36</td>\n",
       "      <td>10.65</td>\n",
       "      <td>162.87</td>\n",
       "      <td>b</td>\n",
       "      <td>b2</td>\n",
       "      <td>verified</td>\n",
       "      <td>2011-12-01</td>\n",
       "      <td>credit_card</td>\n",
       "      <td>27.65</td>\n",
       "      <td>1</td>\n",
       "      <td>3</td>\n",
       "      <td>0</td>\n",
       "      <td>83.7</td>\n",
       "      <td>9</td>\n",
       "      <td>10.0</td>\n",
       "      <td>NaN</td>\n",
       "      <td>rent</td>\n",
       "      <td>24000.0</td>\n",
       "    </tr>\n",
       "    <tr>\n",
       "      <th>1</th>\n",
       "      <td>1077430</td>\n",
       "      <td>charged off</td>\n",
       "      <td>2500</td>\n",
       "      <td>2500.0</td>\n",
       "      <td>60</td>\n",
       "      <td>15.27</td>\n",
       "      <td>59.83</td>\n",
       "      <td>c</td>\n",
       "      <td>c4</td>\n",
       "      <td>source verified</td>\n",
       "      <td>2011-12-01</td>\n",
       "      <td>car</td>\n",
       "      <td>1.00</td>\n",
       "      <td>5</td>\n",
       "      <td>3</td>\n",
       "      <td>0</td>\n",
       "      <td>9.4</td>\n",
       "      <td>4</td>\n",
       "      <td>1.0</td>\n",
       "      <td>ryder</td>\n",
       "      <td>rent</td>\n",
       "      <td>30000.0</td>\n",
       "    </tr>\n",
       "    <tr>\n",
       "      <th>2</th>\n",
       "      <td>1077175</td>\n",
       "      <td>fully paid</td>\n",
       "      <td>2400</td>\n",
       "      <td>2400.0</td>\n",
       "      <td>36</td>\n",
       "      <td>15.96</td>\n",
       "      <td>84.33</td>\n",
       "      <td>c</td>\n",
       "      <td>c5</td>\n",
       "      <td>not verified</td>\n",
       "      <td>2011-12-01</td>\n",
       "      <td>small_business</td>\n",
       "      <td>8.72</td>\n",
       "      <td>2</td>\n",
       "      <td>2</td>\n",
       "      <td>0</td>\n",
       "      <td>98.5</td>\n",
       "      <td>10</td>\n",
       "      <td>10.0</td>\n",
       "      <td>NaN</td>\n",
       "      <td>rent</td>\n",
       "      <td>12252.0</td>\n",
       "    </tr>\n",
       "    <tr>\n",
       "      <th>3</th>\n",
       "      <td>1076863</td>\n",
       "      <td>fully paid</td>\n",
       "      <td>10000</td>\n",
       "      <td>10000.0</td>\n",
       "      <td>36</td>\n",
       "      <td>13.49</td>\n",
       "      <td>339.31</td>\n",
       "      <td>c</td>\n",
       "      <td>c1</td>\n",
       "      <td>source verified</td>\n",
       "      <td>2011-12-01</td>\n",
       "      <td>other</td>\n",
       "      <td>20.00</td>\n",
       "      <td>1</td>\n",
       "      <td>10</td>\n",
       "      <td>0</td>\n",
       "      <td>21.0</td>\n",
       "      <td>37</td>\n",
       "      <td>10.0</td>\n",
       "      <td>air resources board</td>\n",
       "      <td>rent</td>\n",
       "      <td>49200.0</td>\n",
       "    </tr>\n",
       "    <tr>\n",
       "      <th>4</th>\n",
       "      <td>1075358</td>\n",
       "      <td>current</td>\n",
       "      <td>3000</td>\n",
       "      <td>3000.0</td>\n",
       "      <td>60</td>\n",
       "      <td>12.69</td>\n",
       "      <td>67.79</td>\n",
       "      <td>b</td>\n",
       "      <td>b5</td>\n",
       "      <td>source verified</td>\n",
       "      <td>2011-12-01</td>\n",
       "      <td>other</td>\n",
       "      <td>17.94</td>\n",
       "      <td>0</td>\n",
       "      <td>15</td>\n",
       "      <td>0</td>\n",
       "      <td>53.9</td>\n",
       "      <td>38</td>\n",
       "      <td>1.0</td>\n",
       "      <td>university medical group</td>\n",
       "      <td>rent</td>\n",
       "      <td>80000.0</td>\n",
       "    </tr>\n",
       "    <tr>\n",
       "      <th>5</th>\n",
       "      <td>1075269</td>\n",
       "      <td>fully paid</td>\n",
       "      <td>5000</td>\n",
       "      <td>5000.0</td>\n",
       "      <td>36</td>\n",
       "      <td>7.90</td>\n",
       "      <td>156.46</td>\n",
       "      <td>a</td>\n",
       "      <td>a4</td>\n",
       "      <td>source verified</td>\n",
       "      <td>2011-12-01</td>\n",
       "      <td>wedding</td>\n",
       "      <td>11.20</td>\n",
       "      <td>3</td>\n",
       "      <td>9</td>\n",
       "      <td>0</td>\n",
       "      <td>28.3</td>\n",
       "      <td>12</td>\n",
       "      <td>3.0</td>\n",
       "      <td>veolia transportaton</td>\n",
       "      <td>rent</td>\n",
       "      <td>36000.0</td>\n",
       "    </tr>\n",
       "    <tr>\n",
       "      <th>6</th>\n",
       "      <td>1069639</td>\n",
       "      <td>fully paid</td>\n",
       "      <td>7000</td>\n",
       "      <td>7000.0</td>\n",
       "      <td>60</td>\n",
       "      <td>15.96</td>\n",
       "      <td>170.08</td>\n",
       "      <td>c</td>\n",
       "      <td>c5</td>\n",
       "      <td>not verified</td>\n",
       "      <td>2011-12-01</td>\n",
       "      <td>debt_consolidation</td>\n",
       "      <td>23.51</td>\n",
       "      <td>1</td>\n",
       "      <td>7</td>\n",
       "      <td>0</td>\n",
       "      <td>85.6</td>\n",
       "      <td>11</td>\n",
       "      <td>8.0</td>\n",
       "      <td>southern star photography</td>\n",
       "      <td>rent</td>\n",
       "      <td>47004.0</td>\n",
       "    </tr>\n",
       "    <tr>\n",
       "      <th>7</th>\n",
       "      <td>1072053</td>\n",
       "      <td>fully paid</td>\n",
       "      <td>3000</td>\n",
       "      <td>3000.0</td>\n",
       "      <td>36</td>\n",
       "      <td>18.64</td>\n",
       "      <td>109.43</td>\n",
       "      <td>e</td>\n",
       "      <td>e1</td>\n",
       "      <td>source verified</td>\n",
       "      <td>2011-12-01</td>\n",
       "      <td>car</td>\n",
       "      <td>5.35</td>\n",
       "      <td>2</td>\n",
       "      <td>4</td>\n",
       "      <td>0</td>\n",
       "      <td>87.5</td>\n",
       "      <td>4</td>\n",
       "      <td>9.0</td>\n",
       "      <td>mkc accounting</td>\n",
       "      <td>rent</td>\n",
       "      <td>48000.0</td>\n",
       "    </tr>\n",
       "    <tr>\n",
       "      <th>8</th>\n",
       "      <td>1071795</td>\n",
       "      <td>charged off</td>\n",
       "      <td>5600</td>\n",
       "      <td>5600.0</td>\n",
       "      <td>60</td>\n",
       "      <td>21.28</td>\n",
       "      <td>152.39</td>\n",
       "      <td>f</td>\n",
       "      <td>f2</td>\n",
       "      <td>source verified</td>\n",
       "      <td>2011-12-01</td>\n",
       "      <td>small_business</td>\n",
       "      <td>5.55</td>\n",
       "      <td>2</td>\n",
       "      <td>11</td>\n",
       "      <td>0</td>\n",
       "      <td>32.6</td>\n",
       "      <td>13</td>\n",
       "      <td>4.0</td>\n",
       "      <td>NaN</td>\n",
       "      <td>own</td>\n",
       "      <td>40000.0</td>\n",
       "    </tr>\n",
       "    <tr>\n",
       "      <th>9</th>\n",
       "      <td>1071570</td>\n",
       "      <td>charged off</td>\n",
       "      <td>5375</td>\n",
       "      <td>5350.0</td>\n",
       "      <td>60</td>\n",
       "      <td>12.69</td>\n",
       "      <td>121.45</td>\n",
       "      <td>b</td>\n",
       "      <td>b5</td>\n",
       "      <td>verified</td>\n",
       "      <td>2011-12-01</td>\n",
       "      <td>other</td>\n",
       "      <td>18.08</td>\n",
       "      <td>0</td>\n",
       "      <td>2</td>\n",
       "      <td>0</td>\n",
       "      <td>36.5</td>\n",
       "      <td>3</td>\n",
       "      <td>1.0</td>\n",
       "      <td>starbucks</td>\n",
       "      <td>rent</td>\n",
       "      <td>15000.0</td>\n",
       "    </tr>\n",
       "  </tbody>\n",
       "</table>\n",
       "</div>"
      ],
      "text/plain": [
       "        id  loan_status  loan_amount  funded_amount_by_investors  loan_term  \\\n",
       "0  1077501   fully paid         5000                      4975.0         36   \n",
       "1  1077430  charged off         2500                      2500.0         60   \n",
       "2  1077175   fully paid         2400                      2400.0         36   \n",
       "3  1076863   fully paid        10000                     10000.0         36   \n",
       "4  1075358      current         3000                      3000.0         60   \n",
       "5  1075269   fully paid         5000                      5000.0         36   \n",
       "6  1069639   fully paid         7000                      7000.0         60   \n",
       "7  1072053   fully paid         3000                      3000.0         36   \n",
       "8  1071795  charged off         5600                      5600.0         60   \n",
       "9  1071570  charged off         5375                      5350.0         60   \n",
       "\n",
       "   interest_rate  installment grade sub_grade verification_status   issued_on  \\\n",
       "0          10.65       162.87     b        b2            verified  2011-12-01   \n",
       "1          15.27        59.83     c        c4     source verified  2011-12-01   \n",
       "2          15.96        84.33     c        c5        not verified  2011-12-01   \n",
       "3          13.49       339.31     c        c1     source verified  2011-12-01   \n",
       "4          12.69        67.79     b        b5     source verified  2011-12-01   \n",
       "5           7.90       156.46     a        a4     source verified  2011-12-01   \n",
       "6          15.96       170.08     c        c5        not verified  2011-12-01   \n",
       "7          18.64       109.43     e        e1     source verified  2011-12-01   \n",
       "8          21.28       152.39     f        f2     source verified  2011-12-01   \n",
       "9          12.69       121.45     b        b5            verified  2011-12-01   \n",
       "\n",
       "              purpose    dti  inquiries_last_6_months  open_credit_lines  \\\n",
       "0         credit_card  27.65                        1                  3   \n",
       "1                 car   1.00                        5                  3   \n",
       "2      small_business   8.72                        2                  2   \n",
       "3               other  20.00                        1                 10   \n",
       "4               other  17.94                        0                 15   \n",
       "5             wedding  11.20                        3                  9   \n",
       "6  debt_consolidation  23.51                        1                  7   \n",
       "7                 car   5.35                        2                  4   \n",
       "8      small_business   5.55                        2                 11   \n",
       "9               other  18.08                        0                  2   \n",
       "\n",
       "   derogatory_public_records  revolving_line_utilization_rate  \\\n",
       "0                          0                             83.7   \n",
       "1                          0                              9.4   \n",
       "2                          0                             98.5   \n",
       "3                          0                             21.0   \n",
       "4                          0                             53.9   \n",
       "5                          0                             28.3   \n",
       "6                          0                             85.6   \n",
       "7                          0                             87.5   \n",
       "8                          0                             32.6   \n",
       "9                          0                             36.5   \n",
       "\n",
       "   total_credit_lines  employment_length             employer_title  \\\n",
       "0                   9               10.0                        NaN   \n",
       "1                   4                1.0                      ryder   \n",
       "2                  10               10.0                        NaN   \n",
       "3                  37               10.0        air resources board   \n",
       "4                  38                1.0   university medical group   \n",
       "5                  12                3.0       veolia transportaton   \n",
       "6                  11                8.0  southern star photography   \n",
       "7                   4                9.0             mkc accounting   \n",
       "8                  13                4.0                        NaN   \n",
       "9                   3                1.0                  starbucks   \n",
       "\n",
       "  home_ownership  annual_income  \n",
       "0           rent        24000.0  \n",
       "1           rent        30000.0  \n",
       "2           rent        12252.0  \n",
       "3           rent        49200.0  \n",
       "4           rent        80000.0  \n",
       "5           rent        36000.0  \n",
       "6           rent        47004.0  \n",
       "7           rent        48000.0  \n",
       "8            own        40000.0  \n",
       "9           rent        15000.0  "
      ]
     },
     "execution_count": 9,
     "metadata": {},
     "output_type": "execute_result"
    }
   ],
   "source": [
    "pd.set_option('display.max_columns', None)\n",
    "df_loans0 = df_normal_1.merge(df_normal_2, on='id')\n",
    "df_loans0.head(10)"
   ]
  },
  {
   "cell_type": "markdown",
   "metadata": {},
   "source": [
    "Vemos algunos datos de este dataset."
   ]
  },
  {
   "cell_type": "code",
   "execution_count": 10,
   "metadata": {},
   "outputs": [
    {
     "data": {
      "text/plain": [
       "(39717, 22)"
      ]
     },
     "execution_count": 10,
     "metadata": {},
     "output_type": "execute_result"
    }
   ],
   "source": [
    "df_loans0.shape"
   ]
  },
  {
   "cell_type": "code",
   "execution_count": 11,
   "metadata": {},
   "outputs": [
    {
     "name": "stdout",
     "output_type": "stream",
     "text": [
      "<class 'pandas.core.frame.DataFrame'>\n",
      "RangeIndex: 39717 entries, 0 to 39716\n",
      "Data columns (total 22 columns):\n",
      " #   Column                           Non-Null Count  Dtype  \n",
      "---  ------                           --------------  -----  \n",
      " 0   id                               39717 non-null  int64  \n",
      " 1   loan_status                      39717 non-null  object \n",
      " 2   loan_amount                      39717 non-null  int64  \n",
      " 3   funded_amount_by_investors       39717 non-null  float64\n",
      " 4   loan_term                        39717 non-null  int64  \n",
      " 5   interest_rate                    39717 non-null  float64\n",
      " 6   installment                      39717 non-null  float64\n",
      " 7   grade                            39717 non-null  object \n",
      " 8   sub_grade                        39717 non-null  object \n",
      " 9   verification_status              39717 non-null  object \n",
      " 10  issued_on                        39717 non-null  object \n",
      " 11  purpose                          39717 non-null  object \n",
      " 12  dti                              39717 non-null  float64\n",
      " 13  inquiries_last_6_months          39717 non-null  int64  \n",
      " 14  open_credit_lines                39717 non-null  int64  \n",
      " 15  derogatory_public_records        39717 non-null  int64  \n",
      " 16  revolving_line_utilization_rate  39667 non-null  float64\n",
      " 17  total_credit_lines               39717 non-null  int64  \n",
      " 18  employment_length                38642 non-null  float64\n",
      " 19  employer_title                   37258 non-null  object \n",
      " 20  home_ownership                   39717 non-null  object \n",
      " 21  annual_income                    39717 non-null  float64\n",
      "dtypes: float64(7), int64(7), object(8)\n",
      "memory usage: 6.7+ MB\n"
     ]
    }
   ],
   "source": [
    "df_loans0.info()"
   ]
  },
  {
   "cell_type": "markdown",
   "metadata": {},
   "source": [
    "Veamos la cardinalidad de las variables no numéricas"
   ]
  },
  {
   "cell_type": "code",
   "execution_count": 12,
   "metadata": {},
   "outputs": [
    {
     "name": "stdout",
     "output_type": "stream",
     "text": [
      "La cardinalidad de la variable loan_status es 0.01%\n",
      "La cardinalidad de la variable grade es 0.02%\n",
      "La cardinalidad de la variable sub_grade es 0.09%\n",
      "La cardinalidad de la variable verification_status es 0.01%\n",
      "La cardinalidad de la variable issued_on es 0.14%\n",
      "La cardinalidad de la variable purpose es 0.04%\n",
      "La cardinalidad de la variable employer_title es 68.51%\n",
      "La cardinalidad de la variable home_ownership es 0.01%\n"
     ]
    }
   ],
   "source": [
    "for i in df_loans0.select_dtypes(include='object'):\n",
    "    print(f\"La cardinalidad de la variable {i} es {(df_loans0[i].nunique()/df_loans0.shape[0])*100:.2f}%\")"
   ]
  },
  {
   "cell_type": "markdown",
   "metadata": {},
   "source": [
    "Comprobemos que no hay duplicados en nuestros datos. "
   ]
  },
  {
   "cell_type": "code",
   "execution_count": 13,
   "metadata": {},
   "outputs": [
    {
     "data": {
      "text/plain": [
       "0"
      ]
     },
     "execution_count": 13,
     "metadata": {},
     "output_type": "execute_result"
    }
   ],
   "source": [
    "df_loans0.duplicated().sum()"
   ]
  },
  {
   "cell_type": "markdown",
   "metadata": {},
   "source": [
    "Algunas de estas columnas no las vamos a usar en nuestro análisis por considerarlas irrelevantes para el mismo, por lo que decisimos eliminarlas del dataset. En concreto son las siguientes:\n",
    "\n",
    "* 'funded_amount_by_investors\": no es más que el importe del préstamo deduciendo las comisiones. Nos quedamos con el importe total del préstamo\n",
    "* 'grade': se trata de una clasificación hecha por el Lending Club. No la vamos a tener en cuenta en nuestro análisis\n",
    "* 'sub_grade': idem al anterior\n",
    "* 'verification_status': indica si los ingresos del prestatario han sido verificados o no.\n",
    "* 'issued_on': fecha de emisión del préstamo. Es indiferente a nuestro análisis la fecha en la que el préstamo se aprobó.\n",
    "* 'inquiries_last_months': Número de veces que se ha consultado el préstamo en la base de datos\n",
    "* 'open_credit_lines': número de operaciones abiertas por el prestatario. No es una variable que vayamos a estudiar.\n",
    "* 'derogatory_public_records': número de registros públicos negativos. No lo vamos a tener en cuenta en el análisis.\n",
    "* 'total_credit_lines': número de créditos del prestatario en la base de datos. \n",
    "* 'employer_title': sector del empleador. Tiene mucha cardinalidad, por lo que no es práctico su análisis."
   ]
  },
  {
   "cell_type": "markdown",
   "metadata": {},
   "source": [
    "Por otro lado, comprobamos los valores de la columna objeto de todos los estudios que es 'loan_status'"
   ]
  },
  {
   "cell_type": "code",
   "execution_count": 14,
   "metadata": {},
   "outputs": [
    {
     "data": {
      "text/plain": [
       "loan_status\n",
       "fully paid     32950\n",
       "charged off     5627\n",
       "current         1140\n",
       "Name: count, dtype: int64"
      ]
     },
     "execution_count": 14,
     "metadata": {},
     "output_type": "execute_result"
    }
   ],
   "source": [
    "df_loans0['loan_status'].value_counts()"
   ]
  },
  {
   "cell_type": "code",
   "execution_count": 16,
   "metadata": {},
   "outputs": [],
   "source": [
    "df_loans0.to_csv('../src/data/process/loans0.csv', index=False)"
   ]
  },
  {
   "cell_type": "markdown",
   "metadata": {},
   "source": [
    "Cómo vemos, esta columna tiene 3 posibles valores:\n",
    "* 'fully_paid': El préstamo ha sido pagado por completo.\n",
    "* 'charged_off': el préstamo está en una situación de impagado.\n",
    "* 'current': El préstamo está vigente\n",
    "\n",
    "De entre todas las opciones, nos quedamos con las 2 primeras, ya que los préstamos vigentes no sabemos si van a ser pagados o no (De hecho, podíamos usar estos datos para hacer un estudio de Machine Learning y comprobar la probabilidad de impago de los mismos)"
   ]
  },
  {
   "cell_type": "code",
   "execution_count": 17,
   "metadata": {},
   "outputs": [
    {
     "data": {
      "text/html": [
       "<div>\n",
       "<style scoped>\n",
       "    .dataframe tbody tr th:only-of-type {\n",
       "        vertical-align: middle;\n",
       "    }\n",
       "\n",
       "    .dataframe tbody tr th {\n",
       "        vertical-align: top;\n",
       "    }\n",
       "\n",
       "    .dataframe thead th {\n",
       "        text-align: right;\n",
       "    }\n",
       "</style>\n",
       "<table border=\"1\" class=\"dataframe\">\n",
       "  <thead>\n",
       "    <tr style=\"text-align: right;\">\n",
       "      <th></th>\n",
       "      <th>id</th>\n",
       "      <th>loan_status</th>\n",
       "      <th>loan_amount</th>\n",
       "      <th>loan_term</th>\n",
       "      <th>interest_rate</th>\n",
       "      <th>installment</th>\n",
       "      <th>purpose</th>\n",
       "      <th>dti</th>\n",
       "      <th>revolving_rate</th>\n",
       "      <th>employment_length</th>\n",
       "      <th>home_ownership</th>\n",
       "      <th>annual_income</th>\n",
       "    </tr>\n",
       "  </thead>\n",
       "  <tbody>\n",
       "    <tr>\n",
       "      <th>0</th>\n",
       "      <td>1077501</td>\n",
       "      <td>fully paid</td>\n",
       "      <td>5000</td>\n",
       "      <td>36</td>\n",
       "      <td>10.65</td>\n",
       "      <td>162.87</td>\n",
       "      <td>credit_card</td>\n",
       "      <td>27.65</td>\n",
       "      <td>83.7</td>\n",
       "      <td>10.0</td>\n",
       "      <td>rent</td>\n",
       "      <td>24000.0</td>\n",
       "    </tr>\n",
       "    <tr>\n",
       "      <th>1</th>\n",
       "      <td>1077430</td>\n",
       "      <td>charged off</td>\n",
       "      <td>2500</td>\n",
       "      <td>60</td>\n",
       "      <td>15.27</td>\n",
       "      <td>59.83</td>\n",
       "      <td>car</td>\n",
       "      <td>1.00</td>\n",
       "      <td>9.4</td>\n",
       "      <td>1.0</td>\n",
       "      <td>rent</td>\n",
       "      <td>30000.0</td>\n",
       "    </tr>\n",
       "    <tr>\n",
       "      <th>2</th>\n",
       "      <td>1077175</td>\n",
       "      <td>fully paid</td>\n",
       "      <td>2400</td>\n",
       "      <td>36</td>\n",
       "      <td>15.96</td>\n",
       "      <td>84.33</td>\n",
       "      <td>small_business</td>\n",
       "      <td>8.72</td>\n",
       "      <td>98.5</td>\n",
       "      <td>10.0</td>\n",
       "      <td>rent</td>\n",
       "      <td>12252.0</td>\n",
       "    </tr>\n",
       "    <tr>\n",
       "      <th>3</th>\n",
       "      <td>1076863</td>\n",
       "      <td>fully paid</td>\n",
       "      <td>10000</td>\n",
       "      <td>36</td>\n",
       "      <td>13.49</td>\n",
       "      <td>339.31</td>\n",
       "      <td>other</td>\n",
       "      <td>20.00</td>\n",
       "      <td>21.0</td>\n",
       "      <td>10.0</td>\n",
       "      <td>rent</td>\n",
       "      <td>49200.0</td>\n",
       "    </tr>\n",
       "    <tr>\n",
       "      <th>5</th>\n",
       "      <td>1075269</td>\n",
       "      <td>fully paid</td>\n",
       "      <td>5000</td>\n",
       "      <td>36</td>\n",
       "      <td>7.90</td>\n",
       "      <td>156.46</td>\n",
       "      <td>wedding</td>\n",
       "      <td>11.20</td>\n",
       "      <td>28.3</td>\n",
       "      <td>3.0</td>\n",
       "      <td>rent</td>\n",
       "      <td>36000.0</td>\n",
       "    </tr>\n",
       "    <tr>\n",
       "      <th>6</th>\n",
       "      <td>1069639</td>\n",
       "      <td>fully paid</td>\n",
       "      <td>7000</td>\n",
       "      <td>60</td>\n",
       "      <td>15.96</td>\n",
       "      <td>170.08</td>\n",
       "      <td>debt_consolidation</td>\n",
       "      <td>23.51</td>\n",
       "      <td>85.6</td>\n",
       "      <td>8.0</td>\n",
       "      <td>rent</td>\n",
       "      <td>47004.0</td>\n",
       "    </tr>\n",
       "    <tr>\n",
       "      <th>7</th>\n",
       "      <td>1072053</td>\n",
       "      <td>fully paid</td>\n",
       "      <td>3000</td>\n",
       "      <td>36</td>\n",
       "      <td>18.64</td>\n",
       "      <td>109.43</td>\n",
       "      <td>car</td>\n",
       "      <td>5.35</td>\n",
       "      <td>87.5</td>\n",
       "      <td>9.0</td>\n",
       "      <td>rent</td>\n",
       "      <td>48000.0</td>\n",
       "    </tr>\n",
       "    <tr>\n",
       "      <th>8</th>\n",
       "      <td>1071795</td>\n",
       "      <td>charged off</td>\n",
       "      <td>5600</td>\n",
       "      <td>60</td>\n",
       "      <td>21.28</td>\n",
       "      <td>152.39</td>\n",
       "      <td>small_business</td>\n",
       "      <td>5.55</td>\n",
       "      <td>32.6</td>\n",
       "      <td>4.0</td>\n",
       "      <td>own</td>\n",
       "      <td>40000.0</td>\n",
       "    </tr>\n",
       "    <tr>\n",
       "      <th>9</th>\n",
       "      <td>1071570</td>\n",
       "      <td>charged off</td>\n",
       "      <td>5375</td>\n",
       "      <td>60</td>\n",
       "      <td>12.69</td>\n",
       "      <td>121.45</td>\n",
       "      <td>other</td>\n",
       "      <td>18.08</td>\n",
       "      <td>36.5</td>\n",
       "      <td>1.0</td>\n",
       "      <td>rent</td>\n",
       "      <td>15000.0</td>\n",
       "    </tr>\n",
       "    <tr>\n",
       "      <th>10</th>\n",
       "      <td>1070078</td>\n",
       "      <td>fully paid</td>\n",
       "      <td>6500</td>\n",
       "      <td>60</td>\n",
       "      <td>14.65</td>\n",
       "      <td>153.45</td>\n",
       "      <td>debt_consolidation</td>\n",
       "      <td>16.12</td>\n",
       "      <td>20.6</td>\n",
       "      <td>5.0</td>\n",
       "      <td>own</td>\n",
       "      <td>72000.0</td>\n",
       "    </tr>\n",
       "  </tbody>\n",
       "</table>\n",
       "</div>"
      ],
      "text/plain": [
       "         id  loan_status  loan_amount  loan_term  interest_rate  installment  \\\n",
       "0   1077501   fully paid         5000         36          10.65       162.87   \n",
       "1   1077430  charged off         2500         60          15.27        59.83   \n",
       "2   1077175   fully paid         2400         36          15.96        84.33   \n",
       "3   1076863   fully paid        10000         36          13.49       339.31   \n",
       "5   1075269   fully paid         5000         36           7.90       156.46   \n",
       "6   1069639   fully paid         7000         60          15.96       170.08   \n",
       "7   1072053   fully paid         3000         36          18.64       109.43   \n",
       "8   1071795  charged off         5600         60          21.28       152.39   \n",
       "9   1071570  charged off         5375         60          12.69       121.45   \n",
       "10  1070078   fully paid         6500         60          14.65       153.45   \n",
       "\n",
       "               purpose    dti  revolving_rate  employment_length  \\\n",
       "0          credit_card  27.65            83.7               10.0   \n",
       "1                  car   1.00             9.4                1.0   \n",
       "2       small_business   8.72            98.5               10.0   \n",
       "3                other  20.00            21.0               10.0   \n",
       "5              wedding  11.20            28.3                3.0   \n",
       "6   debt_consolidation  23.51            85.6                8.0   \n",
       "7                  car   5.35            87.5                9.0   \n",
       "8       small_business   5.55            32.6                4.0   \n",
       "9                other  18.08            36.5                1.0   \n",
       "10  debt_consolidation  16.12            20.6                5.0   \n",
       "\n",
       "   home_ownership  annual_income  \n",
       "0            rent        24000.0  \n",
       "1            rent        30000.0  \n",
       "2            rent        12252.0  \n",
       "3            rent        49200.0  \n",
       "5            rent        36000.0  \n",
       "6            rent        47004.0  \n",
       "7            rent        48000.0  \n",
       "8             own        40000.0  \n",
       "9            rent        15000.0  \n",
       "10            own        72000.0  "
      ]
     },
     "execution_count": 17,
     "metadata": {},
     "output_type": "execute_result"
    }
   ],
   "source": [
    "columnas_eliminar = ['funded_amount_by_investors', 'grade', 'sub_grade', 'verification_status', 'issued_on', 'inquiries_last_6_months', 'open_credit_lines',\n",
    "                      'derogatory_public_records', 'total_credit_lines', 'employer_title']\n",
    "\n",
    "df_loans = df_loans0.copy()\n",
    "df_final = df_loans[df_loans['loan_status'] != 'current'].drop(columnas_eliminar, axis=1)\n",
    "df_final.rename(columns={'revolving_line_utilization_rate': 'revolving_rate'}, inplace=True)\n",
    "\n",
    "df_current_final = df_loans[df_loans['loan_status'] == 'current'].drop(columnas_eliminar, axis=1)\n",
    "df_current_final.rename(columns={'revolving_line_utilization_rate': 'revolving_rate'}, inplace=True)\n",
    "\n",
    "\n",
    "df_final.head(10)\n"
   ]
  },
  {
   "cell_type": "markdown",
   "metadata": {},
   "source": [
    "Así, ya tenemos un dataframe con las columnas que nos interesa y con dos 'loan_status' que nos interesa. Tenemos también otro Dataframe llamado df_current_final con datos de los préstamos vigentes.\n",
    "\n",
    "Pasamos a hacer un estudio más detallado de las variables de este dataset."
   ]
  },
  {
   "cell_type": "code",
   "execution_count": 18,
   "metadata": {},
   "outputs": [],
   "source": [
    "df_current_final.to_csv('../src//data/process/df_current_final.csv', index=False)"
   ]
  },
  {
   "cell_type": "code",
   "execution_count": 19,
   "metadata": {},
   "outputs": [
    {
     "data": {
      "text/plain": [
       "(38577, 12)"
      ]
     },
     "execution_count": 19,
     "metadata": {},
     "output_type": "execute_result"
    }
   ],
   "source": [
    "df_final.shape"
   ]
  },
  {
   "cell_type": "code",
   "execution_count": 20,
   "metadata": {},
   "outputs": [
    {
     "name": "stdout",
     "output_type": "stream",
     "text": [
      "<class 'pandas.core.frame.DataFrame'>\n",
      "Index: 38577 entries, 0 to 39716\n",
      "Data columns (total 12 columns):\n",
      " #   Column             Non-Null Count  Dtype  \n",
      "---  ------             --------------  -----  \n",
      " 0   id                 38577 non-null  int64  \n",
      " 1   loan_status        38577 non-null  object \n",
      " 2   loan_amount        38577 non-null  int64  \n",
      " 3   loan_term          38577 non-null  int64  \n",
      " 4   interest_rate      38577 non-null  float64\n",
      " 5   installment        38577 non-null  float64\n",
      " 6   purpose            38577 non-null  object \n",
      " 7   dti                38577 non-null  float64\n",
      " 8   revolving_rate     38527 non-null  float64\n",
      " 9   employment_length  37544 non-null  float64\n",
      " 10  home_ownership     38577 non-null  object \n",
      " 11  annual_income      38577 non-null  float64\n",
      "dtypes: float64(6), int64(3), object(3)\n",
      "memory usage: 3.8+ MB\n"
     ]
    }
   ],
   "source": [
    "df_final.info()"
   ]
  },
  {
   "cell_type": "markdown",
   "metadata": {},
   "source": [
    "Podemos observar que las columnas 'employment_length' y 'revolving_rate' contiene valores nulos"
   ]
  },
  {
   "cell_type": "code",
   "execution_count": 21,
   "metadata": {},
   "outputs": [
    {
     "data": {
      "text/html": [
       "<div>\n",
       "<style scoped>\n",
       "    .dataframe tbody tr th:only-of-type {\n",
       "        vertical-align: middle;\n",
       "    }\n",
       "\n",
       "    .dataframe tbody tr th {\n",
       "        vertical-align: top;\n",
       "    }\n",
       "\n",
       "    .dataframe thead th {\n",
       "        text-align: right;\n",
       "    }\n",
       "</style>\n",
       "<table border=\"1\" class=\"dataframe\">\n",
       "  <thead>\n",
       "    <tr style=\"text-align: right;\">\n",
       "      <th></th>\n",
       "      <th>id</th>\n",
       "      <th>loan_amount</th>\n",
       "      <th>loan_term</th>\n",
       "      <th>interest_rate</th>\n",
       "      <th>installment</th>\n",
       "      <th>dti</th>\n",
       "      <th>revolving_rate</th>\n",
       "      <th>employment_length</th>\n",
       "      <th>annual_income</th>\n",
       "    </tr>\n",
       "  </thead>\n",
       "  <tbody>\n",
       "    <tr>\n",
       "      <th>count</th>\n",
       "      <td>38577.00</td>\n",
       "      <td>38577.00</td>\n",
       "      <td>38577.00</td>\n",
       "      <td>38577.00</td>\n",
       "      <td>38577.00</td>\n",
       "      <td>38577.00</td>\n",
       "      <td>38527.00</td>\n",
       "      <td>37544.00</td>\n",
       "      <td>38577.00</td>\n",
       "    </tr>\n",
       "    <tr>\n",
       "      <th>mean</th>\n",
       "      <td>676378.71</td>\n",
       "      <td>11047.03</td>\n",
       "      <td>41.90</td>\n",
       "      <td>11.93</td>\n",
       "      <td>322.47</td>\n",
       "      <td>13.27</td>\n",
       "      <td>48.70</td>\n",
       "      <td>5.06</td>\n",
       "      <td>68777.97</td>\n",
       "    </tr>\n",
       "    <tr>\n",
       "      <th>std</th>\n",
       "      <td>209263.90</td>\n",
       "      <td>7348.44</td>\n",
       "      <td>10.33</td>\n",
       "      <td>3.69</td>\n",
       "      <td>208.64</td>\n",
       "      <td>6.67</td>\n",
       "      <td>28.36</td>\n",
       "      <td>3.40</td>\n",
       "      <td>64218.68</td>\n",
       "    </tr>\n",
       "    <tr>\n",
       "      <th>min</th>\n",
       "      <td>54734.00</td>\n",
       "      <td>500.00</td>\n",
       "      <td>36.00</td>\n",
       "      <td>5.42</td>\n",
       "      <td>15.69</td>\n",
       "      <td>0.00</td>\n",
       "      <td>0.00</td>\n",
       "      <td>1.00</td>\n",
       "      <td>4000.00</td>\n",
       "    </tr>\n",
       "    <tr>\n",
       "      <th>25%</th>\n",
       "      <td>512033.00</td>\n",
       "      <td>5300.00</td>\n",
       "      <td>36.00</td>\n",
       "      <td>8.94</td>\n",
       "      <td>165.74</td>\n",
       "      <td>8.13</td>\n",
       "      <td>25.20</td>\n",
       "      <td>2.00</td>\n",
       "      <td>40000.00</td>\n",
       "    </tr>\n",
       "    <tr>\n",
       "      <th>50%</th>\n",
       "      <td>656423.00</td>\n",
       "      <td>9600.00</td>\n",
       "      <td>36.00</td>\n",
       "      <td>11.71</td>\n",
       "      <td>277.86</td>\n",
       "      <td>13.37</td>\n",
       "      <td>49.10</td>\n",
       "      <td>4.00</td>\n",
       "      <td>58868.00</td>\n",
       "    </tr>\n",
       "    <tr>\n",
       "      <th>75%</th>\n",
       "      <td>829146.00</td>\n",
       "      <td>15000.00</td>\n",
       "      <td>36.00</td>\n",
       "      <td>14.38</td>\n",
       "      <td>425.55</td>\n",
       "      <td>18.56</td>\n",
       "      <td>72.30</td>\n",
       "      <td>9.00</td>\n",
       "      <td>82000.00</td>\n",
       "    </tr>\n",
       "    <tr>\n",
       "      <th>max</th>\n",
       "      <td>1077501.00</td>\n",
       "      <td>35000.00</td>\n",
       "      <td>60.00</td>\n",
       "      <td>24.40</td>\n",
       "      <td>1305.19</td>\n",
       "      <td>29.99</td>\n",
       "      <td>99.90</td>\n",
       "      <td>10.00</td>\n",
       "      <td>6000000.00</td>\n",
       "    </tr>\n",
       "  </tbody>\n",
       "</table>\n",
       "</div>"
      ],
      "text/plain": [
       "               id  loan_amount  loan_term  interest_rate  installment  \\\n",
       "count    38577.00     38577.00   38577.00       38577.00     38577.00   \n",
       "mean    676378.71     11047.03      41.90          11.93       322.47   \n",
       "std     209263.90      7348.44      10.33           3.69       208.64   \n",
       "min      54734.00       500.00      36.00           5.42        15.69   \n",
       "25%     512033.00      5300.00      36.00           8.94       165.74   \n",
       "50%     656423.00      9600.00      36.00          11.71       277.86   \n",
       "75%     829146.00     15000.00      36.00          14.38       425.55   \n",
       "max    1077501.00     35000.00      60.00          24.40      1305.19   \n",
       "\n",
       "            dti  revolving_rate  employment_length  annual_income  \n",
       "count  38577.00        38527.00           37544.00       38577.00  \n",
       "mean      13.27           48.70               5.06       68777.97  \n",
       "std        6.67           28.36               3.40       64218.68  \n",
       "min        0.00            0.00               1.00        4000.00  \n",
       "25%        8.13           25.20               2.00       40000.00  \n",
       "50%       13.37           49.10               4.00       58868.00  \n",
       "75%       18.56           72.30               9.00       82000.00  \n",
       "max       29.99           99.90              10.00     6000000.00  "
      ]
     },
     "execution_count": 21,
     "metadata": {},
     "output_type": "execute_result"
    }
   ],
   "source": [
    "df_final.describe(exclude='object').round(2)"
   ]
  },
  {
   "cell_type": "code",
   "execution_count": 22,
   "metadata": {},
   "outputs": [
    {
     "data": {
      "text/html": [
       "<div>\n",
       "<style scoped>\n",
       "    .dataframe tbody tr th:only-of-type {\n",
       "        vertical-align: middle;\n",
       "    }\n",
       "\n",
       "    .dataframe tbody tr th {\n",
       "        vertical-align: top;\n",
       "    }\n",
       "\n",
       "    .dataframe thead th {\n",
       "        text-align: right;\n",
       "    }\n",
       "</style>\n",
       "<table border=\"1\" class=\"dataframe\">\n",
       "  <thead>\n",
       "    <tr style=\"text-align: right;\">\n",
       "      <th></th>\n",
       "      <th>loan_status</th>\n",
       "      <th>purpose</th>\n",
       "      <th>home_ownership</th>\n",
       "    </tr>\n",
       "  </thead>\n",
       "  <tbody>\n",
       "    <tr>\n",
       "      <th>count</th>\n",
       "      <td>38577</td>\n",
       "      <td>38577</td>\n",
       "      <td>38577</td>\n",
       "    </tr>\n",
       "    <tr>\n",
       "      <th>unique</th>\n",
       "      <td>2</td>\n",
       "      <td>14</td>\n",
       "      <td>5</td>\n",
       "    </tr>\n",
       "    <tr>\n",
       "      <th>top</th>\n",
       "      <td>fully paid</td>\n",
       "      <td>debt_consolidation</td>\n",
       "      <td>rent</td>\n",
       "    </tr>\n",
       "    <tr>\n",
       "      <th>freq</th>\n",
       "      <td>32950</td>\n",
       "      <td>18055</td>\n",
       "      <td>18480</td>\n",
       "    </tr>\n",
       "  </tbody>\n",
       "</table>\n",
       "</div>"
      ],
      "text/plain": [
       "       loan_status             purpose home_ownership\n",
       "count        38577               38577          38577\n",
       "unique           2                  14              5\n",
       "top     fully paid  debt_consolidation           rent\n",
       "freq         32950               18055          18480"
      ]
     },
     "execution_count": 22,
     "metadata": {},
     "output_type": "execute_result"
    }
   ],
   "source": [
    "df_final.describe(include='object')"
   ]
  },
  {
   "cell_type": "code",
   "execution_count": 23,
   "metadata": {},
   "outputs": [
    {
     "data": {
      "text/plain": [
       "id                   38577\n",
       "loan_status              2\n",
       "loan_amount            870\n",
       "loan_term                2\n",
       "interest_rate          370\n",
       "installment          15022\n",
       "purpose                 14\n",
       "dti                   2853\n",
       "revolving_rate        1088\n",
       "employment_length       10\n",
       "home_ownership           5\n",
       "annual_income         5215\n",
       "dtype: int64"
      ]
     },
     "execution_count": 23,
     "metadata": {},
     "output_type": "execute_result"
    }
   ],
   "source": [
    "df_final.nunique()"
   ]
  },
  {
   "cell_type": "markdown",
   "metadata": {},
   "source": [
    "Veamos más detalles de las columnas 'loan_status', 'purpose', 'home_ownership', 'loan_term', y 'employment_length'"
   ]
  },
  {
   "cell_type": "code",
   "execution_count": 24,
   "metadata": {},
   "outputs": [
    {
     "data": {
      "text/plain": [
       "loan_status\n",
       "fully paid     32950\n",
       "charged off     5627\n",
       "Name: count, dtype: int64"
      ]
     },
     "execution_count": 24,
     "metadata": {},
     "output_type": "execute_result"
    }
   ],
   "source": [
    "df_final['loan_status'].value_counts()"
   ]
  },
  {
   "cell_type": "code",
   "execution_count": 25,
   "metadata": {},
   "outputs": [
    {
     "data": {
      "text/plain": [
       "loan_status\n",
       "fully paid     85.41\n",
       "charged off    14.59\n",
       "Name: proportion, dtype: float64"
      ]
     },
     "execution_count": 25,
     "metadata": {},
     "output_type": "execute_result"
    }
   ],
   "source": [
    "df_final['loan_status'].value_counts(normalize=True).mul(100).round(2)"
   ]
  },
  {
   "cell_type": "code",
   "execution_count": 26,
   "metadata": {},
   "outputs": [
    {
     "data": {
      "text/plain": [
       "purpose\n",
       "debt_consolidation    46.80\n",
       "credit_card           13.03\n",
       "other                 10.02\n",
       "home_improvement       7.45\n",
       "major_purchase         5.57\n",
       "small_business         4.55\n",
       "car                    3.89\n",
       "wedding                2.40\n",
       "medical                1.77\n",
       "moving                 1.49\n",
       "vacation               0.97\n",
       "house                  0.95\n",
       "educational            0.84\n",
       "renewable_energy       0.26\n",
       "Name: proportion, dtype: float64"
      ]
     },
     "execution_count": 26,
     "metadata": {},
     "output_type": "execute_result"
    }
   ],
   "source": [
    "df_final['purpose'].value_counts(normalize=True).mul(100).round(2)"
   ]
  },
  {
   "cell_type": "code",
   "execution_count": 27,
   "metadata": {},
   "outputs": [
    {
     "data": {
      "text/plain": [
       "home_ownership\n",
       "rent        47.90\n",
       "mortgage    44.12\n",
       "own          7.71\n",
       "other        0.25\n",
       "none         0.01\n",
       "Name: proportion, dtype: float64"
      ]
     },
     "execution_count": 27,
     "metadata": {},
     "output_type": "execute_result"
    }
   ],
   "source": [
    "df_final['home_ownership'].value_counts(normalize=True).mul(100).round(2)"
   ]
  },
  {
   "cell_type": "code",
   "execution_count": 28,
   "metadata": {},
   "outputs": [
    {
     "data": {
      "text/plain": [
       "loan_term\n",
       "36    75.42\n",
       "60    24.58\n",
       "Name: proportion, dtype: float64"
      ]
     },
     "execution_count": 28,
     "metadata": {},
     "output_type": "execute_result"
    }
   ],
   "source": [
    "df_final['loan_term'].value_counts(normalize=True).mul(100).round(2)"
   ]
  },
  {
   "cell_type": "code",
   "execution_count": 29,
   "metadata": {},
   "outputs": [
    {
     "data": {
      "text/plain": [
       "employment_length\n",
       "10.0    22.61\n",
       "1.0     20.45\n",
       "2.0     11.43\n",
       "3.0     10.69\n",
       "4.0      8.90\n",
       "5.0      8.51\n",
       "6.0      5.77\n",
       "7.0      4.56\n",
       "8.0      3.82\n",
       "9.0      3.27\n",
       "Name: proportion, dtype: float64"
      ]
     },
     "execution_count": 29,
     "metadata": {},
     "output_type": "execute_result"
    }
   ],
   "source": [
    "df_final['employment_length'].value_counts(normalize=True).mul(100).round(2)"
   ]
  },
  {
   "cell_type": "markdown",
   "metadata": {},
   "source": [
    "En este último caso, tenemos que hacer la precisión de que los empleados con 10 años de antigüedad son en realidad de 10 o más años de antigüedad"
   ]
  },
  {
   "cell_type": "markdown",
   "metadata": {},
   "source": [
    "## Limpieza de datos"
   ]
  },
  {
   "cell_type": "markdown",
   "metadata": {},
   "source": [
    "### Sustitución de valores nulos"
   ]
  },
  {
   "cell_type": "markdown",
   "metadata": {},
   "source": [
    "Vamos a analizar ahora las columnas con valores faltantes, en nuestro caso, 'revolving_rate' y 'employment_length'. En el primer caso son 50 de 38.577 filas (0,13%). En el segundo caso son 1.033 de 38.577 (2,68 %)"
   ]
  },
  {
   "cell_type": "code",
   "execution_count": 30,
   "metadata": {},
   "outputs": [
    {
     "data": {
      "text/plain": [
       "id                      0\n",
       "loan_status             0\n",
       "loan_amount             0\n",
       "loan_term               0\n",
       "interest_rate           0\n",
       "installment             0\n",
       "purpose                 0\n",
       "dti                     0\n",
       "revolving_rate         50\n",
       "employment_length    1033\n",
       "home_ownership          0\n",
       "annual_income           0\n",
       "dtype: int64"
      ]
     },
     "execution_count": 30,
     "metadata": {},
     "output_type": "execute_result"
    }
   ],
   "source": [
    "df_final.isna().sum()"
   ]
  },
  {
   "cell_type": "markdown",
   "metadata": {},
   "source": [
    "Veamos la distribución de ambas columnas"
   ]
  },
  {
   "cell_type": "code",
   "execution_count": 31,
   "metadata": {},
   "outputs": [
    {
     "data": {
      "image/png": "[encoded data removed]",
      "text/plain": [
       "<Figure size 640x480 with 1 Axes>"
      ]
     },
     "metadata": {},
     "output_type": "display_data"
    }
   ],
   "source": [
    "sns.histplot(data=df_final, x='revolving_rate', hue='loan_status', multiple='stack', kde=True);\n",
    "plt.title('Distribución de revolving_rate por loan_status')\n",
    "plt.xlabel('Revolving Rate')\n",
    "plt.ylabel('Frecuencia')\n",
    "plt.show()"
   ]
  },
  {
   "cell_type": "markdown",
   "metadata": {},
   "source": [
    "Tenemos muchos datos con el valor 'revolving_rate' = 0 (es decir, que el prestatario no ha incurrido en 'revolving)"
   ]
  },
  {
   "cell_type": "code",
   "execution_count": 38,
   "metadata": {},
   "outputs": [
    {
     "data": {
      "text/plain": [
       "<bound method Series.sort_values of revolving_rate\n",
       "0.00     2.60\n",
       "0.20     0.16\n",
       "63.00    0.16\n",
       "40.70    0.15\n",
       "31.20    0.15\n",
       "         ... \n",
       "77.63    0.00\n",
       "25.74    0.00\n",
       "0.83     0.00\n",
       "47.36    0.00\n",
       "7.28     0.00\n",
       "Name: proportion, Length: 1088, dtype: float64>"
      ]
     },
     "execution_count": 38,
     "metadata": {},
     "output_type": "execute_result"
    }
   ],
   "source": [
    "df_final['revolving_rate'].value_counts(normalize=True).mul(100).round(2).sort_values"
   ]
  },
  {
   "cell_type": "markdown",
   "metadata": {},
   "source": [
    "Vamos a considerar que los valores Nan de la columna 'revolving_rate' son, en realidad, valores con tasa de revolving cero. Sustituimos los valores Nan, por valores cero"
   ]
  },
  {
   "cell_type": "code",
   "execution_count": 34,
   "metadata": {},
   "outputs": [],
   "source": [
    "df_final['revolving_rate'].fillna(0, inplace=True)"
   ]
  },
  {
   "cell_type": "markdown",
   "metadata": {},
   "source": [
    "En cuanto a la columna 'employment_lenth', veamos un gráfico con su distribución de valores"
   ]
  },
  {
   "cell_type": "code",
   "execution_count": 41,
   "metadata": {},
   "outputs": [
    {
     "data": {
      "image/png": "[encoded data removed]",
      "text/plain": [
       "<Figure size 1000x600 with 1 Axes>"
      ]
     },
     "metadata": {},
     "output_type": "display_data"
    }
   ],
   "source": [
    "# Valores de 'employment_length' discriminando por 'loan_status'\n",
    "pivot_df = df_final.pivot_table(index='employment_length', columns='loan_status', aggfunc='size', dropna=True)\n",
    "\n",
    "# Crear el gráfico de barras apiladas\n",
    "pivot_df.plot(kind='bar', stacked=True, figsize=(10, 6))\n",
    "\n",
    "# Configuración del gráfico\n",
    "plt.xlabel('Duración del Empleo')\n",
    "plt.ylabel('Número de Préstamos')\n",
    "plt.title('Número de Valores por Duración del Empleo y Estado del Préstamo')\n",
    "plt.legend(title='Estado del Préstamo')\n",
    "plt.xticks(rotation=0)  # Rotar etiquetas del eje x si es necesario\n",
    "\n",
    "# Mostrar el gráfico\n",
    "plt.tight_layout()\n",
    "plt.show()"
   ]
  },
  {
   "cell_type": "markdown",
   "metadata": {},
   "source": [
    "En porcentajes por tipo sobre el total"
   ]
  },
  {
   "cell_type": "code",
   "execution_count": 42,
   "metadata": {},
   "outputs": [
    {
     "data": {
      "image/png": "[encoded data removed]",
      "text/plain": [
       "<Figure size 1000x600 with 1 Axes>"
      ]
     },
     "metadata": {},
     "output_type": "display_data"
    }
   ],
   "source": [
    "# Conteo de valores de 'employment_length' discriminando por 'loan_status'\n",
    "pivot_df3 = df_final.pivot_table(index='employment_length', columns='loan_status', aggfunc='size', fill_value=0)\n",
    "\n",
    "# Calcular los porcentajes\n",
    "totals = pivot_df3.sum(axis=1)\n",
    "percentage_df = pivot_df3.div(totals, axis=0) * 100\n",
    "\n",
    "# Crear el gráfico de barras apiladas con porcentajes y etiquetas\n",
    "ax = percentage_df.plot(kind='bar', stacked=True, figsize=(10, 6))\n",
    "\n",
    "# Configuración del gráfico\n",
    "plt.xlabel('Duración del Empleo')\n",
    "plt.ylabel('Porcentaje del Total (%)')\n",
    "plt.title('Porcentaje del Total por Duración del Empleo y Estado del Préstamo')\n",
    "plt.legend(title='Estado del Préstamo')\n",
    "plt.xticks(rotation=0)  # Rotar etiquetas del eje x si es necesario\n",
    "\n",
    "# Agregar etiquetas con los porcentajes a las barras\n",
    "for i in ax.patches:\n",
    "    width, height = i.get_width(), i.get_height()\n",
    "    x, y = i.get_xy()\n",
    "    ax.text(x + width / 2, y + height / 2, f'{height:.1f}%', ha='center', va='center', color='black')\n",
    "\n",
    "# Mostrar el gráfico\n",
    "plt.tight_layout()\n",
    "plt.show()"
   ]
  },
  {
   "cell_type": "markdown",
   "metadata": {},
   "source": [
    "Veamos ahora un dataset con los datos de 'employment_length' Nan, para ver si podemos establecer algún criterio para asignar estos valores."
   ]
  },
  {
   "cell_type": "code",
   "execution_count": 43,
   "metadata": {},
   "outputs": [
    {
     "data": {
      "text/html": [
       "<div>\n",
       "<style scoped>\n",
       "    .dataframe tbody tr th:only-of-type {\n",
       "        vertical-align: middle;\n",
       "    }\n",
       "\n",
       "    .dataframe tbody tr th {\n",
       "        vertical-align: top;\n",
       "    }\n",
       "\n",
       "    .dataframe thead th {\n",
       "        text-align: right;\n",
       "    }\n",
       "</style>\n",
       "<table border=\"1\" class=\"dataframe\">\n",
       "  <thead>\n",
       "    <tr style=\"text-align: right;\">\n",
       "      <th></th>\n",
       "      <th>id</th>\n",
       "      <th>loan_status</th>\n",
       "      <th>loan_amount</th>\n",
       "      <th>loan_term</th>\n",
       "      <th>interest_rate</th>\n",
       "      <th>installment</th>\n",
       "      <th>purpose</th>\n",
       "      <th>dti</th>\n",
       "      <th>revolving_rate</th>\n",
       "      <th>employment_length</th>\n",
       "      <th>home_ownership</th>\n",
       "      <th>annual_income</th>\n",
       "    </tr>\n",
       "  </thead>\n",
       "  <tbody>\n",
       "    <tr>\n",
       "      <th>168</th>\n",
       "      <td>1067644</td>\n",
       "      <td>charged off</td>\n",
       "      <td>2500</td>\n",
       "      <td>36</td>\n",
       "      <td>7.51</td>\n",
       "      <td>77.78</td>\n",
       "      <td>debt_consolidation</td>\n",
       "      <td>16.30</td>\n",
       "      <td>42.2</td>\n",
       "      <td>NaN</td>\n",
       "      <td>own</td>\n",
       "      <td>12000.0</td>\n",
       "    </tr>\n",
       "    <tr>\n",
       "      <th>323</th>\n",
       "      <td>1058717</td>\n",
       "      <td>fully paid</td>\n",
       "      <td>18000</td>\n",
       "      <td>60</td>\n",
       "      <td>17.58</td>\n",
       "      <td>452.98</td>\n",
       "      <td>debt_consolidation</td>\n",
       "      <td>21.96</td>\n",
       "      <td>83.7</td>\n",
       "      <td>NaN</td>\n",
       "      <td>mortgage</td>\n",
       "      <td>60000.0</td>\n",
       "    </tr>\n",
       "    <tr>\n",
       "      <th>394</th>\n",
       "      <td>1064582</td>\n",
       "      <td>fully paid</td>\n",
       "      <td>4000</td>\n",
       "      <td>36</td>\n",
       "      <td>11.71</td>\n",
       "      <td>132.31</td>\n",
       "      <td>home_improvement</td>\n",
       "      <td>7.50</td>\n",
       "      <td>54.9</td>\n",
       "      <td>NaN</td>\n",
       "      <td>rent</td>\n",
       "      <td>24000.0</td>\n",
       "    </tr>\n",
       "    <tr>\n",
       "      <th>422</th>\n",
       "      <td>1064366</td>\n",
       "      <td>charged off</td>\n",
       "      <td>1000</td>\n",
       "      <td>36</td>\n",
       "      <td>14.65</td>\n",
       "      <td>34.50</td>\n",
       "      <td>major_purchase</td>\n",
       "      <td>6.00</td>\n",
       "      <td>83.7</td>\n",
       "      <td>NaN</td>\n",
       "      <td>rent</td>\n",
       "      <td>18408.0</td>\n",
       "    </tr>\n",
       "    <tr>\n",
       "      <th>439</th>\n",
       "      <td>1063912</td>\n",
       "      <td>fully paid</td>\n",
       "      <td>8250</td>\n",
       "      <td>36</td>\n",
       "      <td>7.51</td>\n",
       "      <td>256.67</td>\n",
       "      <td>debt_consolidation</td>\n",
       "      <td>17.87</td>\n",
       "      <td>10.4</td>\n",
       "      <td>NaN</td>\n",
       "      <td>mortgage</td>\n",
       "      <td>31500.0</td>\n",
       "    </tr>\n",
       "    <tr>\n",
       "      <th>534</th>\n",
       "      <td>1062897</td>\n",
       "      <td>charged off</td>\n",
       "      <td>1700</td>\n",
       "      <td>36</td>\n",
       "      <td>7.90</td>\n",
       "      <td>53.20</td>\n",
       "      <td>home_improvement</td>\n",
       "      <td>27.00</td>\n",
       "      <td>91.2</td>\n",
       "      <td>NaN</td>\n",
       "      <td>mortgage</td>\n",
       "      <td>37800.0</td>\n",
       "    </tr>\n",
       "    <tr>\n",
       "      <th>555</th>\n",
       "      <td>1062781</td>\n",
       "      <td>fully paid</td>\n",
       "      <td>5000</td>\n",
       "      <td>36</td>\n",
       "      <td>8.90</td>\n",
       "      <td>158.77</td>\n",
       "      <td>other</td>\n",
       "      <td>16.17</td>\n",
       "      <td>53.0</td>\n",
       "      <td>NaN</td>\n",
       "      <td>mortgage</td>\n",
       "      <td>70000.0</td>\n",
       "    </tr>\n",
       "    <tr>\n",
       "      <th>562</th>\n",
       "      <td>1062535</td>\n",
       "      <td>fully paid</td>\n",
       "      <td>3000</td>\n",
       "      <td>36</td>\n",
       "      <td>9.91</td>\n",
       "      <td>96.68</td>\n",
       "      <td>renewable_energy</td>\n",
       "      <td>4.29</td>\n",
       "      <td>33.3</td>\n",
       "      <td>NaN</td>\n",
       "      <td>mortgage</td>\n",
       "      <td>42000.0</td>\n",
       "    </tr>\n",
       "    <tr>\n",
       "      <th>569</th>\n",
       "      <td>1036838</td>\n",
       "      <td>charged off</td>\n",
       "      <td>8575</td>\n",
       "      <td>36</td>\n",
       "      <td>17.58</td>\n",
       "      <td>308.21</td>\n",
       "      <td>debt_consolidation</td>\n",
       "      <td>22.54</td>\n",
       "      <td>89.9</td>\n",
       "      <td>NaN</td>\n",
       "      <td>mortgage</td>\n",
       "      <td>32000.0</td>\n",
       "    </tr>\n",
       "    <tr>\n",
       "      <th>678</th>\n",
       "      <td>1061194</td>\n",
       "      <td>fully paid</td>\n",
       "      <td>5600</td>\n",
       "      <td>36</td>\n",
       "      <td>6.03</td>\n",
       "      <td>170.44</td>\n",
       "      <td>car</td>\n",
       "      <td>3.97</td>\n",
       "      <td>2.7</td>\n",
       "      <td>NaN</td>\n",
       "      <td>own</td>\n",
       "      <td>41100.0</td>\n",
       "    </tr>\n",
       "    <tr>\n",
       "      <th>750</th>\n",
       "      <td>1060485</td>\n",
       "      <td>charged off</td>\n",
       "      <td>14125</td>\n",
       "      <td>36</td>\n",
       "      <td>12.42</td>\n",
       "      <td>472.00</td>\n",
       "      <td>debt_consolidation</td>\n",
       "      <td>21.93</td>\n",
       "      <td>91.5</td>\n",
       "      <td>NaN</td>\n",
       "      <td>mortgage</td>\n",
       "      <td>45696.0</td>\n",
       "    </tr>\n",
       "    <tr>\n",
       "      <th>900</th>\n",
       "      <td>1056011</td>\n",
       "      <td>fully paid</td>\n",
       "      <td>2250</td>\n",
       "      <td>36</td>\n",
       "      <td>15.27</td>\n",
       "      <td>78.30</td>\n",
       "      <td>other</td>\n",
       "      <td>19.50</td>\n",
       "      <td>90.3</td>\n",
       "      <td>NaN</td>\n",
       "      <td>mortgage</td>\n",
       "      <td>17352.0</td>\n",
       "    </tr>\n",
       "    <tr>\n",
       "      <th>973</th>\n",
       "      <td>1018385</td>\n",
       "      <td>fully paid</td>\n",
       "      <td>7000</td>\n",
       "      <td>36</td>\n",
       "      <td>6.62</td>\n",
       "      <td>214.93</td>\n",
       "      <td>car</td>\n",
       "      <td>11.45</td>\n",
       "      <td>22.9</td>\n",
       "      <td>NaN</td>\n",
       "      <td>mortgage</td>\n",
       "      <td>24000.0</td>\n",
       "    </tr>\n",
       "    <tr>\n",
       "      <th>983</th>\n",
       "      <td>1057726</td>\n",
       "      <td>fully paid</td>\n",
       "      <td>15000</td>\n",
       "      <td>36</td>\n",
       "      <td>12.42</td>\n",
       "      <td>501.23</td>\n",
       "      <td>debt_consolidation</td>\n",
       "      <td>14.18</td>\n",
       "      <td>72.5</td>\n",
       "      <td>NaN</td>\n",
       "      <td>rent</td>\n",
       "      <td>60000.0</td>\n",
       "    </tr>\n",
       "    <tr>\n",
       "      <th>1088</th>\n",
       "      <td>926180</td>\n",
       "      <td>fully paid</td>\n",
       "      <td>12000</td>\n",
       "      <td>36</td>\n",
       "      <td>6.03</td>\n",
       "      <td>365.23</td>\n",
       "      <td>credit_card</td>\n",
       "      <td>18.75</td>\n",
       "      <td>51.1</td>\n",
       "      <td>NaN</td>\n",
       "      <td>own</td>\n",
       "      <td>40000.0</td>\n",
       "    </tr>\n",
       "    <tr>\n",
       "      <th>1091</th>\n",
       "      <td>1056081</td>\n",
       "      <td>fully paid</td>\n",
       "      <td>15000</td>\n",
       "      <td>36</td>\n",
       "      <td>17.27</td>\n",
       "      <td>536.81</td>\n",
       "      <td>debt_consolidation</td>\n",
       "      <td>12.08</td>\n",
       "      <td>89.0</td>\n",
       "      <td>NaN</td>\n",
       "      <td>own</td>\n",
       "      <td>57000.0</td>\n",
       "    </tr>\n",
       "    <tr>\n",
       "      <th>1121</th>\n",
       "      <td>1055716</td>\n",
       "      <td>charged off</td>\n",
       "      <td>8500</td>\n",
       "      <td>36</td>\n",
       "      <td>15.96</td>\n",
       "      <td>298.67</td>\n",
       "      <td>credit_card</td>\n",
       "      <td>10.25</td>\n",
       "      <td>62.7</td>\n",
       "      <td>NaN</td>\n",
       "      <td>rent</td>\n",
       "      <td>27050.0</td>\n",
       "    </tr>\n",
       "    <tr>\n",
       "      <th>1138</th>\n",
       "      <td>1055566</td>\n",
       "      <td>charged off</td>\n",
       "      <td>5000</td>\n",
       "      <td>36</td>\n",
       "      <td>7.51</td>\n",
       "      <td>155.56</td>\n",
       "      <td>other</td>\n",
       "      <td>14.14</td>\n",
       "      <td>20.5</td>\n",
       "      <td>NaN</td>\n",
       "      <td>rent</td>\n",
       "      <td>84855.0</td>\n",
       "    </tr>\n",
       "    <tr>\n",
       "      <th>1146</th>\n",
       "      <td>1055300</td>\n",
       "      <td>charged off</td>\n",
       "      <td>4000</td>\n",
       "      <td>36</td>\n",
       "      <td>15.27</td>\n",
       "      <td>139.20</td>\n",
       "      <td>debt_consolidation</td>\n",
       "      <td>12.62</td>\n",
       "      <td>91.0</td>\n",
       "      <td>NaN</td>\n",
       "      <td>own</td>\n",
       "      <td>25000.0</td>\n",
       "    </tr>\n",
       "    <tr>\n",
       "      <th>1157</th>\n",
       "      <td>1055222</td>\n",
       "      <td>fully paid</td>\n",
       "      <td>5000</td>\n",
       "      <td>36</td>\n",
       "      <td>14.65</td>\n",
       "      <td>172.48</td>\n",
       "      <td>home_improvement</td>\n",
       "      <td>19.57</td>\n",
       "      <td>74.3</td>\n",
       "      <td>NaN</td>\n",
       "      <td>mortgage</td>\n",
       "      <td>48000.0</td>\n",
       "    </tr>\n",
       "    <tr>\n",
       "      <th>1173</th>\n",
       "      <td>1054702</td>\n",
       "      <td>fully paid</td>\n",
       "      <td>20400</td>\n",
       "      <td>60</td>\n",
       "      <td>11.71</td>\n",
       "      <td>450.81</td>\n",
       "      <td>debt_consolidation</td>\n",
       "      <td>10.94</td>\n",
       "      <td>50.6</td>\n",
       "      <td>NaN</td>\n",
       "      <td>rent</td>\n",
       "      <td>40800.0</td>\n",
       "    </tr>\n",
       "    <tr>\n",
       "      <th>1225</th>\n",
       "      <td>1053966</td>\n",
       "      <td>fully paid</td>\n",
       "      <td>5000</td>\n",
       "      <td>36</td>\n",
       "      <td>7.90</td>\n",
       "      <td>156.46</td>\n",
       "      <td>debt_consolidation</td>\n",
       "      <td>12.64</td>\n",
       "      <td>94.8</td>\n",
       "      <td>NaN</td>\n",
       "      <td>rent</td>\n",
       "      <td>30000.0</td>\n",
       "    </tr>\n",
       "    <tr>\n",
       "      <th>1256</th>\n",
       "      <td>1053445</td>\n",
       "      <td>charged off</td>\n",
       "      <td>1400</td>\n",
       "      <td>36</td>\n",
       "      <td>8.90</td>\n",
       "      <td>44.46</td>\n",
       "      <td>debt_consolidation</td>\n",
       "      <td>20.29</td>\n",
       "      <td>33.4</td>\n",
       "      <td>NaN</td>\n",
       "      <td>mortgage</td>\n",
       "      <td>30108.0</td>\n",
       "    </tr>\n",
       "    <tr>\n",
       "      <th>1279</th>\n",
       "      <td>1053257</td>\n",
       "      <td>fully paid</td>\n",
       "      <td>9250</td>\n",
       "      <td>36</td>\n",
       "      <td>10.65</td>\n",
       "      <td>301.31</td>\n",
       "      <td>debt_consolidation</td>\n",
       "      <td>9.18</td>\n",
       "      <td>48.4</td>\n",
       "      <td>NaN</td>\n",
       "      <td>own</td>\n",
       "      <td>20000.0</td>\n",
       "    </tr>\n",
       "    <tr>\n",
       "      <th>1311</th>\n",
       "      <td>1052258</td>\n",
       "      <td>fully paid</td>\n",
       "      <td>7200</td>\n",
       "      <td>36</td>\n",
       "      <td>12.69</td>\n",
       "      <td>241.53</td>\n",
       "      <td>credit_card</td>\n",
       "      <td>11.39</td>\n",
       "      <td>76.4</td>\n",
       "      <td>NaN</td>\n",
       "      <td>mortgage</td>\n",
       "      <td>45000.0</td>\n",
       "    </tr>\n",
       "    <tr>\n",
       "      <th>1326</th>\n",
       "      <td>1052485</td>\n",
       "      <td>charged off</td>\n",
       "      <td>5325</td>\n",
       "      <td>36</td>\n",
       "      <td>12.42</td>\n",
       "      <td>177.94</td>\n",
       "      <td>credit_card</td>\n",
       "      <td>12.55</td>\n",
       "      <td>88.5</td>\n",
       "      <td>NaN</td>\n",
       "      <td>rent</td>\n",
       "      <td>22000.0</td>\n",
       "    </tr>\n",
       "    <tr>\n",
       "      <th>1336</th>\n",
       "      <td>1052397</td>\n",
       "      <td>fully paid</td>\n",
       "      <td>12000</td>\n",
       "      <td>36</td>\n",
       "      <td>7.51</td>\n",
       "      <td>373.33</td>\n",
       "      <td>debt_consolidation</td>\n",
       "      <td>5.66</td>\n",
       "      <td>40.7</td>\n",
       "      <td>NaN</td>\n",
       "      <td>mortgage</td>\n",
       "      <td>60000.0</td>\n",
       "    </tr>\n",
       "    <tr>\n",
       "      <th>1400</th>\n",
       "      <td>1051591</td>\n",
       "      <td>charged off</td>\n",
       "      <td>8000</td>\n",
       "      <td>36</td>\n",
       "      <td>9.91</td>\n",
       "      <td>257.80</td>\n",
       "      <td>home_improvement</td>\n",
       "      <td>19.90</td>\n",
       "      <td>0.0</td>\n",
       "      <td>NaN</td>\n",
       "      <td>rent</td>\n",
       "      <td>60000.0</td>\n",
       "    </tr>\n",
       "    <tr>\n",
       "      <th>1406</th>\n",
       "      <td>1051328</td>\n",
       "      <td>fully paid</td>\n",
       "      <td>10000</td>\n",
       "      <td>36</td>\n",
       "      <td>6.03</td>\n",
       "      <td>304.36</td>\n",
       "      <td>credit_card</td>\n",
       "      <td>17.42</td>\n",
       "      <td>20.3</td>\n",
       "      <td>NaN</td>\n",
       "      <td>own</td>\n",
       "      <td>37200.0</td>\n",
       "    </tr>\n",
       "    <tr>\n",
       "      <th>1424</th>\n",
       "      <td>988714</td>\n",
       "      <td>fully paid</td>\n",
       "      <td>15000</td>\n",
       "      <td>36</td>\n",
       "      <td>17.58</td>\n",
       "      <td>539.14</td>\n",
       "      <td>debt_consolidation</td>\n",
       "      <td>19.10</td>\n",
       "      <td>81.0</td>\n",
       "      <td>NaN</td>\n",
       "      <td>own</td>\n",
       "      <td>62400.0</td>\n",
       "    </tr>\n",
       "  </tbody>\n",
       "</table>\n",
       "</div>"
      ],
      "text/plain": [
       "           id  loan_status  loan_amount  loan_term  interest_rate  \\\n",
       "168   1067644  charged off         2500         36           7.51   \n",
       "323   1058717   fully paid        18000         60          17.58   \n",
       "394   1064582   fully paid         4000         36          11.71   \n",
       "422   1064366  charged off         1000         36          14.65   \n",
       "439   1063912   fully paid         8250         36           7.51   \n",
       "534   1062897  charged off         1700         36           7.90   \n",
       "555   1062781   fully paid         5000         36           8.90   \n",
       "562   1062535   fully paid         3000         36           9.91   \n",
       "569   1036838  charged off         8575         36          17.58   \n",
       "678   1061194   fully paid         5600         36           6.03   \n",
       "750   1060485  charged off        14125         36          12.42   \n",
       "900   1056011   fully paid         2250         36          15.27   \n",
       "973   1018385   fully paid         7000         36           6.62   \n",
       "983   1057726   fully paid        15000         36          12.42   \n",
       "1088   926180   fully paid        12000         36           6.03   \n",
       "1091  1056081   fully paid        15000         36          17.27   \n",
       "1121  1055716  charged off         8500         36          15.96   \n",
       "1138  1055566  charged off         5000         36           7.51   \n",
       "1146  1055300  charged off         4000         36          15.27   \n",
       "1157  1055222   fully paid         5000         36          14.65   \n",
       "1173  1054702   fully paid        20400         60          11.71   \n",
       "1225  1053966   fully paid         5000         36           7.90   \n",
       "1256  1053445  charged off         1400         36           8.90   \n",
       "1279  1053257   fully paid         9250         36          10.65   \n",
       "1311  1052258   fully paid         7200         36          12.69   \n",
       "1326  1052485  charged off         5325         36          12.42   \n",
       "1336  1052397   fully paid        12000         36           7.51   \n",
       "1400  1051591  charged off         8000         36           9.91   \n",
       "1406  1051328   fully paid        10000         36           6.03   \n",
       "1424   988714   fully paid        15000         36          17.58   \n",
       "\n",
       "      installment             purpose    dti  revolving_rate  \\\n",
       "168         77.78  debt_consolidation  16.30            42.2   \n",
       "323        452.98  debt_consolidation  21.96            83.7   \n",
       "394        132.31    home_improvement   7.50            54.9   \n",
       "422         34.50      major_purchase   6.00            83.7   \n",
       "439        256.67  debt_consolidation  17.87            10.4   \n",
       "534         53.20    home_improvement  27.00            91.2   \n",
       "555        158.77               other  16.17            53.0   \n",
       "562         96.68    renewable_energy   4.29            33.3   \n",
       "569        308.21  debt_consolidation  22.54            89.9   \n",
       "678        170.44                 car   3.97             2.7   \n",
       "750        472.00  debt_consolidation  21.93            91.5   \n",
       "900         78.30               other  19.50            90.3   \n",
       "973        214.93                 car  11.45            22.9   \n",
       "983        501.23  debt_consolidation  14.18            72.5   \n",
       "1088       365.23         credit_card  18.75            51.1   \n",
       "1091       536.81  debt_consolidation  12.08            89.0   \n",
       "1121       298.67         credit_card  10.25            62.7   \n",
       "1138       155.56               other  14.14            20.5   \n",
       "1146       139.20  debt_consolidation  12.62            91.0   \n",
       "1157       172.48    home_improvement  19.57            74.3   \n",
       "1173       450.81  debt_consolidation  10.94            50.6   \n",
       "1225       156.46  debt_consolidation  12.64            94.8   \n",
       "1256        44.46  debt_consolidation  20.29            33.4   \n",
       "1279       301.31  debt_consolidation   9.18            48.4   \n",
       "1311       241.53         credit_card  11.39            76.4   \n",
       "1326       177.94         credit_card  12.55            88.5   \n",
       "1336       373.33  debt_consolidation   5.66            40.7   \n",
       "1400       257.80    home_improvement  19.90             0.0   \n",
       "1406       304.36         credit_card  17.42            20.3   \n",
       "1424       539.14  debt_consolidation  19.10            81.0   \n",
       "\n",
       "      employment_length home_ownership  annual_income  \n",
       "168                 NaN            own        12000.0  \n",
       "323                 NaN       mortgage        60000.0  \n",
       "394                 NaN           rent        24000.0  \n",
       "422                 NaN           rent        18408.0  \n",
       "439                 NaN       mortgage        31500.0  \n",
       "534                 NaN       mortgage        37800.0  \n",
       "555                 NaN       mortgage        70000.0  \n",
       "562                 NaN       mortgage        42000.0  \n",
       "569                 NaN       mortgage        32000.0  \n",
       "678                 NaN            own        41100.0  \n",
       "750                 NaN       mortgage        45696.0  \n",
       "900                 NaN       mortgage        17352.0  \n",
       "973                 NaN       mortgage        24000.0  \n",
       "983                 NaN           rent        60000.0  \n",
       "1088                NaN            own        40000.0  \n",
       "1091                NaN            own        57000.0  \n",
       "1121                NaN           rent        27050.0  \n",
       "1138                NaN           rent        84855.0  \n",
       "1146                NaN            own        25000.0  \n",
       "1157                NaN       mortgage        48000.0  \n",
       "1173                NaN           rent        40800.0  \n",
       "1225                NaN           rent        30000.0  \n",
       "1256                NaN       mortgage        30108.0  \n",
       "1279                NaN            own        20000.0  \n",
       "1311                NaN       mortgage        45000.0  \n",
       "1326                NaN           rent        22000.0  \n",
       "1336                NaN       mortgage        60000.0  \n",
       "1400                NaN           rent        60000.0  \n",
       "1406                NaN            own        37200.0  \n",
       "1424                NaN            own        62400.0  "
      ]
     },
     "execution_count": 43,
     "metadata": {},
     "output_type": "execute_result"
    }
   ],
   "source": [
    "df_final[df_final['employment_length'].isna()].head(30)"
   ]
  },
  {
   "cell_type": "markdown",
   "metadata": {},
   "source": [
    "No parece haber un criterio claro para asignar los Nan de esta columna. Vamos a proceder a repartir los valores Nan según los porcentajes que representan cada valor, de manera aleatoria. En primer lugar veamos la distribución porcentual de cada valor en la columna."
   ]
  },
  {
   "cell_type": "code",
   "execution_count": 44,
   "metadata": {},
   "outputs": [
    {
     "data": {
      "text/plain": [
       "employment_length\n",
       "10.0    22.61\n",
       "1.0     20.45\n",
       "2.0     11.43\n",
       "3.0     10.69\n",
       "4.0      8.90\n",
       "5.0      8.51\n",
       "6.0      5.77\n",
       "7.0      4.56\n",
       "8.0      3.82\n",
       "9.0      3.27\n",
       "Name: proportion, dtype: float64"
      ]
     },
     "execution_count": 44,
     "metadata": {},
     "output_type": "execute_result"
    }
   ],
   "source": [
    "df_final['employment_length'].value_counts(normalize=True, dropna=True).mul(100).round(2)"
   ]
  },
  {
   "cell_type": "code",
   "execution_count": 46,
   "metadata": {},
   "outputs": [
    {
     "data": {
      "image/png": "[encoded data removed]",
      "text/plain": [
       "<Figure size 800x600 with 1 Axes>"
      ]
     },
     "metadata": {},
     "output_type": "display_data"
    }
   ],
   "source": [
    "# Obtenemos la cuenta de cada valor único en la columna 'employment_length'\n",
    "employment_counts = df_final['employment_length'].value_counts(dropna=True)\n",
    "\n",
    "# Crea un gráfico tipo pastel\n",
    "plt.figure(figsize=(8, 6))  \n",
    "plt.pie(employment_counts, labels=employment_counts.index, autopct='%1.1f%%', startangle=140)\n",
    "plt.title('Porcentaje relativo de valores en la columna \"employment_length\"')\n",
    "plt.axis('equal')  \n",
    "\n",
    "# Muestra el gráfico\n",
    "plt.show()"
   ]
  },
  {
   "cell_type": "markdown",
   "metadata": {},
   "source": [
    "Procedemos a repartir los valores Nan proporcionalmente a los valores que tiene la columna en el dataframe de manera aleatoria."
   ]
  },
  {
   "cell_type": "code",
   "execution_count": 47,
   "metadata": {},
   "outputs": [],
   "source": [
    "# Calcular el porcentaje de cada valor presente en 'employment_length'\n",
    "porcentaje_valores = df_final['employment_length'].value_counts(normalize=True, dropna=True)\n",
    "\n",
    "# Determinar el número de valores NaN en 'employment_length'\n",
    "num_nan_values = df_final['employment_length'].isnull().sum()\n",
    "\n",
    "# Asignar los valores NaN proporcionalmente\n",
    "valores_a_asignar = np.random.choice(porcentaje_valores.index, size=num_nan_values, p=porcentaje_valores)\n",
    "\n",
    "# Actualizar los valores NaN en 'employment_length'\n",
    "df_final.loc[df_final['employment_length'].isnull(), 'employment_length'] = valores_a_asignar"
   ]
  },
  {
   "cell_type": "code",
   "execution_count": 49,
   "metadata": {},
   "outputs": [
    {
     "data": {
      "text/plain": [
       "employment_length\n",
       "10.0    22.56\n",
       "1.0     20.45\n",
       "2.0     11.44\n",
       "3.0     10.67\n",
       "4.0      8.92\n",
       "5.0      8.53\n",
       "6.0      5.79\n",
       "7.0      4.56\n",
       "8.0      3.81\n",
       "9.0      3.27\n",
       "Name: proportion, dtype: float64"
      ]
     },
     "execution_count": 49,
     "metadata": {},
     "output_type": "execute_result"
    }
   ],
   "source": [
    "df_final['employment_length'].value_counts(normalize=True).mul(100).round(2)"
   ]
  },
  {
   "cell_type": "code",
   "execution_count": 50,
   "metadata": {},
   "outputs": [
    {
     "data": {
      "image/png": "[encoded data removed]",
      "text/plain": [
       "<Figure size 800x600 with 1 Axes>"
      ]
     },
     "metadata": {},
     "output_type": "display_data"
    }
   ],
   "source": [
    "# Obtén la cuenta de cada valor único en la columna 'employment_length'\n",
    "employment_counts = df_final['employment_length'].value_counts()\n",
    "\n",
    "# Crea un gráfico tipo pastel\n",
    "plt.figure(figsize=(8, 6))  \n",
    "plt.pie(employment_counts, labels=employment_counts.index, autopct='%1.1f%%', startangle=140)\n",
    "plt.title('Porcentaje relativo de valores en la columna \"employment_length\"')\n",
    "plt.axis('equal')  \n",
    "\n",
    "# Muestra el gráfico\n",
    "plt.show()"
   ]
  },
  {
   "cell_type": "code",
   "execution_count": 48,
   "metadata": {},
   "outputs": [
    {
     "data": {
      "text/plain": [
       "id                   0\n",
       "loan_status          0\n",
       "loan_amount          0\n",
       "loan_term            0\n",
       "interest_rate        0\n",
       "installment          0\n",
       "purpose              0\n",
       "dti                  0\n",
       "revolving_rate       0\n",
       "employment_length    0\n",
       "home_ownership       0\n",
       "annual_income        0\n",
       "dtype: int64"
      ]
     },
     "execution_count": 48,
     "metadata": {},
     "output_type": "execute_result"
    }
   ],
   "source": [
    "df_final.isna().sum()"
   ]
  },
  {
   "cell_type": "markdown",
   "metadata": {},
   "source": [
    "Vemos que los porcentajes definitivos de esta columna son muy similares a los iniciales, por lo que damos por finalizada la limpieza de datos del EDA."
   ]
  },
  {
   "cell_type": "markdown",
   "metadata": {},
   "source": [
    "Una vez que hemos eliminado los valores nulos de la columna 'employment_length'. Procedemos a convertir esta columna en integer, ya que se trata de una variable cuantitativa discreta"
   ]
  },
  {
   "cell_type": "code",
   "execution_count": 51,
   "metadata": {},
   "outputs": [],
   "source": [
    "df_final['employment_length'] = df_final['employment_length'].astype(int)"
   ]
  },
  {
   "cell_type": "markdown",
   "metadata": {},
   "source": [
    "### Búsqueda y sustitución de outliers"
   ]
  },
  {
   "cell_type": "markdown",
   "metadata": {},
   "source": [
    "El siguiente paso es buscar posibles outliers o valores atípicos. Para detectar posibles valores atípicos usamos gráficos de tipo boxplot, en las variables que sean cuantitativas contínuas."
   ]
  },
  {
   "cell_type": "code",
   "execution_count": 55,
   "metadata": {},
   "outputs": [
    {
     "data": {
      "image/png": "[encoded data removed]",
      "text/plain": [
       "<Figure size 2000x400 with 5 Axes>"
      ]
     },
     "metadata": {},
     "output_type": "display_data"
    }
   ],
   "source": [
    "# Filtrar las columnas que contienen variables numéricas continuas\n",
    "columnas_continuas = ['loan_amount', 'interest_rate', 'dti', 'revolving_rate', 'annual_income']\n",
    "\n",
    "# Crear boxplots para cada columna continua\n",
    "fig, axes = plt.subplots(1, 5, figsize=(20, 4))\n",
    "fig.suptitle('Boxplots para detección de outliers (1,5 veces el rango intercuartíco)')\n",
    "sns.boxplot(ax=axes[0], x=df_final[columnas_continuas[0]])\n",
    "sns.boxplot(ax=axes[1], x=df_final[columnas_continuas[1]])\n",
    "sns.boxplot(ax=axes[2], x=df_final[columnas_continuas[2]])\n",
    "sns.boxplot(ax=axes[3], x=df_final[columnas_continuas[3]])\n",
    "sns.boxplot(ax=axes[4], x=df_final[columnas_continuas[4]])\n",
    "plt.show();"
   ]
  },
  {
   "cell_type": "markdown",
   "metadata": {},
   "source": [
    "Por la gráfica, vemos que tanto las columnas 'dti' o 'revolving_rate' no tiene outliers apreciables. Las otras 3 columnas, y sobre todo la columna 'annual_income' parecen tener elevados valores fuera del rango del 1,5 * rango intercuartílico"
   ]
  },
  {
   "cell_type": "code",
   "execution_count": 53,
   "metadata": {},
   "outputs": [
    {
     "data": {
      "text/html": [
       "<div>\n",
       "<style scoped>\n",
       "    .dataframe tbody tr th:only-of-type {\n",
       "        vertical-align: middle;\n",
       "    }\n",
       "\n",
       "    .dataframe tbody tr th {\n",
       "        vertical-align: top;\n",
       "    }\n",
       "\n",
       "    .dataframe thead th {\n",
       "        text-align: right;\n",
       "    }\n",
       "</style>\n",
       "<table border=\"1\" class=\"dataframe\">\n",
       "  <thead>\n",
       "    <tr style=\"text-align: right;\">\n",
       "      <th></th>\n",
       "      <th>loan_amount</th>\n",
       "      <th>interest_rate</th>\n",
       "      <th>dti</th>\n",
       "      <th>revolving_rate</th>\n",
       "      <th>annual_income</th>\n",
       "    </tr>\n",
       "  </thead>\n",
       "  <tbody>\n",
       "    <tr>\n",
       "      <th>count</th>\n",
       "      <td>38577.00</td>\n",
       "      <td>38577.00</td>\n",
       "      <td>38577.00</td>\n",
       "      <td>38577.00</td>\n",
       "      <td>38577.00</td>\n",
       "    </tr>\n",
       "    <tr>\n",
       "      <th>mean</th>\n",
       "      <td>11047.03</td>\n",
       "      <td>11.93</td>\n",
       "      <td>13.27</td>\n",
       "      <td>48.64</td>\n",
       "      <td>68777.97</td>\n",
       "    </tr>\n",
       "    <tr>\n",
       "      <th>std</th>\n",
       "      <td>7348.44</td>\n",
       "      <td>3.69</td>\n",
       "      <td>6.67</td>\n",
       "      <td>28.40</td>\n",
       "      <td>64218.68</td>\n",
       "    </tr>\n",
       "    <tr>\n",
       "      <th>min</th>\n",
       "      <td>500.00</td>\n",
       "      <td>5.42</td>\n",
       "      <td>0.00</td>\n",
       "      <td>0.00</td>\n",
       "      <td>4000.00</td>\n",
       "    </tr>\n",
       "    <tr>\n",
       "      <th>25%</th>\n",
       "      <td>5300.00</td>\n",
       "      <td>8.94</td>\n",
       "      <td>8.13</td>\n",
       "      <td>25.10</td>\n",
       "      <td>40000.00</td>\n",
       "    </tr>\n",
       "    <tr>\n",
       "      <th>50%</th>\n",
       "      <td>9600.00</td>\n",
       "      <td>11.71</td>\n",
       "      <td>13.37</td>\n",
       "      <td>49.00</td>\n",
       "      <td>58868.00</td>\n",
       "    </tr>\n",
       "    <tr>\n",
       "      <th>75%</th>\n",
       "      <td>15000.00</td>\n",
       "      <td>14.38</td>\n",
       "      <td>18.56</td>\n",
       "      <td>72.20</td>\n",
       "      <td>82000.00</td>\n",
       "    </tr>\n",
       "    <tr>\n",
       "      <th>max</th>\n",
       "      <td>35000.00</td>\n",
       "      <td>24.40</td>\n",
       "      <td>29.99</td>\n",
       "      <td>99.90</td>\n",
       "      <td>6000000.00</td>\n",
       "    </tr>\n",
       "  </tbody>\n",
       "</table>\n",
       "</div>"
      ],
      "text/plain": [
       "       loan_amount  interest_rate       dti  revolving_rate  annual_income\n",
       "count     38577.00       38577.00  38577.00        38577.00       38577.00\n",
       "mean      11047.03          11.93     13.27           48.64       68777.97\n",
       "std        7348.44           3.69      6.67           28.40       64218.68\n",
       "min         500.00           5.42      0.00            0.00        4000.00\n",
       "25%        5300.00           8.94      8.13           25.10       40000.00\n",
       "50%        9600.00          11.71     13.37           49.00       58868.00\n",
       "75%       15000.00          14.38     18.56           72.20       82000.00\n",
       "max       35000.00          24.40     29.99           99.90     6000000.00"
      ]
     },
     "execution_count": 53,
     "metadata": {},
     "output_type": "execute_result"
    }
   ],
   "source": [
    "df_final[columnas_continuas].describe().round(2)"
   ]
  },
  {
   "cell_type": "markdown",
   "metadata": {},
   "source": [
    "Vamos a volver a realizar un gráfico boxplot para las columnas 'loan_amount', 'interest_rate' y 'annual_income', pero tomando con outliers la cantidad de 6 veces el rango intercuartílico, a fin de disminuir la cantidad de valores que dejamos fuera como consecuencia de tomar el 1,5 * rango intercuartílico"
   ]
  },
  {
   "cell_type": "code",
   "execution_count": 56,
   "metadata": {},
   "outputs": [
    {
     "data": {
      "image/png": "[encoded data removed]",
      "text/plain": [
       "<Figure size 2000x400 with 3 Axes>"
      ]
     },
     "metadata": {},
     "output_type": "display_data"
    }
   ],
   "source": [
    "# Filtrar las columnas que contienen variables numéricas continuas\n",
    "columnas_continuas_2 = ['loan_amount', 'interest_rate', 'annual_income']\n",
    "\n",
    "# Crear boxplots para cada columna continua\n",
    "fig, axes = plt.subplots(1, 3, figsize=(20, 4))\n",
    "fig.suptitle('Boxplots para derección de outliers (6 veces el rango intercuartílico)')\n",
    "sns.boxplot(ax=axes[0], x=df_final[columnas_continuas_2[0]], whis=6)\n",
    "sns.boxplot(ax=axes[1], x=df_final[columnas_continuas_2[1]], whis=6)\n",
    "sns.boxplot(ax=axes[2], x=df_final[columnas_continuas_2[2]], whis=6)\n",
    "\n",
    "plt.show();"
   ]
  },
  {
   "cell_type": "markdown",
   "metadata": {},
   "source": [
    "Aumentando a 6 las veces del rango intercuartílico para considerar un valor como outlier resolvemos la existencia de outliers en las columnas 'loan_amount' y 'interest_rate', pero seguimos teniendo muchos valores como outliers en la columna 'annual_income'. Vamos a estudiar con detenimiento cuántos valores son y de qué importes estamos hablando en esta columna."
   ]
  },
  {
   "cell_type": "code",
   "execution_count": 57,
   "metadata": {},
   "outputs": [],
   "source": [
    "q1_income = df_final['annual_income'].quantile(0.25)\n",
    "q3_income = df_final['annual_income'].quantile(0.75)\n",
    "iqr_income = q3_income - q1_income\n",
    "upper_income = q3_income + 6 * iqr_income\n",
    "lower_income = q1_income - 6 * iqr_income"
   ]
  },
  {
   "cell_type": "code",
   "execution_count": 58,
   "metadata": {},
   "outputs": [
    {
     "data": {
      "text/plain": [
       "count        138.00\n",
       "mean      659263.39\n",
       "std       620376.83\n",
       "min       336000.00\n",
       "25%       384250.00\n",
       "50%       500000.00\n",
       "75%       720000.00\n",
       "max      6000000.00\n",
       "Name: annual_income, dtype: float64"
      ]
     },
     "execution_count": 58,
     "metadata": {},
     "output_type": "execute_result"
    }
   ],
   "source": [
    "df_final[df_final['annual_income'] > upper_income]['annual_income'].describe().round(2)"
   ]
  },
  {
   "cell_type": "markdown",
   "metadata": {},
   "source": [
    "Vemos que los valores que superan las 6 veces el rango intercuartílico de la columna 'annual_income' son 138 valores de 38.577 (0,3577 %). El importe mínimo de este grupo es de\n",
    "336.000, y el máximo es de 6.000.000. \n",
    "Vamos a optar por asignar a todos los valores de la columna 'annual_income\" que superen los 336.000 este valor."
   ]
  },
  {
   "cell_type": "code",
   "execution_count": 59,
   "metadata": {},
   "outputs": [
    {
     "name": "stdout",
     "output_type": "stream",
     "text": [
      "annul_income\n",
      "q3: 82000.0\n",
      "uumbral superior: 334000.0\n",
      "count     38577.00\n",
      "mean      67614.42\n",
      "std       41954.37\n",
      "min        4000.00\n",
      "25%       40000.00\n",
      "50%       58868.00\n",
      "75%       82000.00\n",
      "max      334000.00\n",
      "Name: annual_income, dtype: float64\n"
     ]
    }
   ],
   "source": [
    "iqr_factor = 6\n",
    "q1 = df_final['annual_income'].quantile(0.25)\n",
    "q3 = df_final['annual_income'].quantile(0.75)\n",
    "iqr = q3 - q1\n",
    "upper_threshold = q3 + (iqr_factor * iqr)\n",
    "print('annul_income')\n",
    "print('q3:', q3)\n",
    "print('uumbral superior:', upper_threshold)\n",
    "\n",
    "# Reasignar valores \n",
    "df_final.loc[df_final['annual_income'] > upper_threshold, 'annual_income'] = upper_threshold\n",
    "print(df_final['annual_income'].describe().round(2))"
   ]
  },
  {
   "cell_type": "markdown",
   "metadata": {},
   "source": [
    "Volvemos a hacer el gráfico de boxplots inicial, pero con un factor 6 por el rango intercuartílico"
   ]
  },
  {
   "cell_type": "code",
   "execution_count": 60,
   "metadata": {},
   "outputs": [
    {
     "data": {
      "image/png": "[encoded data removed]",
      "text/plain": [
       "<Figure size 2000x400 with 5 Axes>"
      ]
     },
     "metadata": {},
     "output_type": "display_data"
    }
   ],
   "source": [
    "# Filtrar las columnas que contienen variables numéricas continuas\n",
    "columnas_continuas = ['loan_amount', 'interest_rate', 'dti', 'revolving_rate', 'annual_income']\n",
    "\n",
    "# Crear boxplots para cada columna continua\n",
    "fig, axes = plt.subplots(1, 5, figsize=(20, 4))\n",
    "fig.suptitle('Boxplots con un factor 6 de rango intercuartílico')\n",
    "sns.boxplot(ax=axes[0], x=df_final[columnas_continuas[0]], whis=6)\n",
    "sns.boxplot(ax=axes[1], x=df_final[columnas_continuas[1]], whis=6)\n",
    "sns.boxplot(ax=axes[2], x=df_final[columnas_continuas[2]], whis=6)\n",
    "sns.boxplot(ax=axes[3], x=df_final[columnas_continuas[3]], whis=6)\n",
    "sns.boxplot(ax=axes[4], x=df_final[columnas_continuas[4]], whis=6)\n",
    "\n",
    "plt.show();"
   ]
  },
  {
   "cell_type": "markdown",
   "metadata": {},
   "source": [
    "Vemos que ahora ya no tenemos outliers"
   ]
  },
  {
   "cell_type": "code",
   "execution_count": 61,
   "metadata": {},
   "outputs": [],
   "source": [
    "df_final_clean = df_final.copy()\n",
    "df_final_clean.to_csv('../src/data/process/df_final_clean.csv', index=False)"
   ]
  },
  {
   "cell_type": "markdown",
   "metadata": {},
   "source": [
    "Vamos a proceder a dividir en 2 este dataframe final a fin de facilitar el estudio posterior\n",
    "* df_final_paid: comprende el dataframe limpio pero con solo con los créditos pagados\n",
    "* df_final_charged_off: dataframe limpio con los créditos impagados\n"
   ]
  }
 ],
 "metadata": {
  "kernelspec": {
   "display_name": "Python 3",
   "language": "python",
   "name": "python3"
  },
  "language_info": {
   "codemirror_mode": {
    "name": "ipython",
    "version": 3
   },
   "file_extension": ".py",
   "mimetype": "text/x-python",
   "name": "python",
   "nbconvert_exporter": "python",
   "pygments_lexer": "ipython3",
   "version": "3.11.3"
  }
 },
 "nbformat": 4,
 "nbformat_minor": 2
}
